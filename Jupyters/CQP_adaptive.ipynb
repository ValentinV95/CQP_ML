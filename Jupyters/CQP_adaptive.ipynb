{
 "cells": [
  {
   "cell_type": "code",
   "execution_count": 1,
   "id": "927596fb-708f-49a0-9072-fbed5efa122b",
   "metadata": {},
   "outputs": [],
   "source": [
    "import warnings\n",
    "warnings.filterwarnings('ignore')\n",
    "import numpy as np\n",
    "from time import process_time\n",
    "from scipy.io import loadmat\n",
    "\n",
    "N = 4"
   ]
  },
  {
   "cell_type": "code",
   "execution_count": 2,
   "id": "3e16d040-269b-4c71-8db1-b3ab058d4320",
   "metadata": {},
   "outputs": [],
   "source": [
    "pd = '' #path with data"
   ]
  },
  {
   "cell_type": "code",
   "execution_count": 3,
   "id": "b6d354e6-7c9e-4f88-b014-4ffecd5d1387",
   "metadata": {},
   "outputs": [],
   "source": [
    "data = loadmat(pd+'dataAnswer_regular_from_0_to_3pion4.mat')\n",
    "answers_reg_ = np.transpose(np.array(data['answers']))\n",
    "data = loadmat(pd+'dataChoi3_n_regular_from_0_to_3pion4.mat')\n",
    "chois_reg_ = np.array(data['choi'])\n",
    "\n",
    "data = loadmat(pd+'dataAnswer_regular_otherY_from_0_to_3pion4.mat')\n",
    "answers_Y = np.transpose(np.array(data['answers']))\n",
    "data = loadmat(pd+'dataChoi3_n_regular_otherY_from_0_to_3pion4.mat')\n",
    "chois_Y = np.array(data['choi'])\n",
    "\n",
    "chois_reg = np.concatenate((chois_reg_, chois_Y), axis=0)\n",
    "answers_reg = np.concatenate((answers_reg_, answers_Y), axis=0)\n",
    "\n",
    "data = loadmat(pd+'dataAnswer_regular_3pion8.mat')\n",
    "answers_other1 = np.transpose(np.array(data['answers']))\n",
    "data = loadmat(pd+'dataChoi3_n_regular_3pion8.mat')\n",
    "chois_other1 = np.array(data['choi'])\n",
    "\n",
    "data = loadmat(pd+'dataAnswer_regular_otherY_3pion8.mat')\n",
    "answers_other2 = np.transpose(np.array(data['answers']))\n",
    "data = loadmat(pd+'dataChoi3_n_regular_otherY_3pion8.mat')\n",
    "chois_other2 = np.array(data['choi'])\n",
    "\n",
    "chois_other = np.concatenate((chois_other1, chois_other2), axis=0)\n",
    "answers_other = np.concatenate((answers_other1, answers_other2), axis=0)"
   ]
  },
  {
   "cell_type": "code",
   "execution_count": 4,
   "id": "493ac358-1751-4d13-9afb-1877f56fb98e",
   "metadata": {},
   "outputs": [],
   "source": [
    "from sklearn.model_selection import train_test_split\n",
    "from sklearn.preprocessing import StandardScaler\n",
    "from sklearn.datasets import make_moons, make_circles, make_classification\n",
    "from sklearn.neural_network import MLPClassifier\n",
    "from sklearn.neighbors import KNeighborsClassifier\n",
    "from sklearn.svm import SVC\n",
    "from sklearn.svm import NuSVC\n",
    "from sklearn.tree import DecisionTreeClassifier\n",
    "from sklearn.ensemble import RandomForestClassifier, AdaBoostClassifier\n",
    "from sklearn.naive_bayes import GaussianNB\n",
    "from sklearn.discriminant_analysis import QuadraticDiscriminantAnalysis\n",
    "from sklearn.discriminant_analysis import LinearDiscriminantAnalysis\n",
    "from sklearn.metrics import f1_score\n",
    "from sklearn import metrics\n",
    "from sklearn.linear_model import Ridge"
   ]
  },
  {
   "cell_type": "code",
   "execution_count": 5,
   "id": "fe3e4dba-1200-407e-a94f-561f9522986f",
   "metadata": {},
   "outputs": [],
   "source": [
    "def resample(X, n):\n",
    "    X1=[]\n",
    "    for i in range(0,100,n):\n",
    "        for j in range(0,50,n):\n",
    "            X1.append(X[i*50+j]);\n",
    "    X1 = np.array(X1)\n",
    "    return X1\n",
    "\n",
    "def resampleMod(X, n, m):\n",
    "    X1=[]\n",
    "    for i in range(0,100,n):\n",
    "        for j in range(0,50,n):\n",
    "            if(i % m or j % m):\n",
    "                X1.append(X[i*50+j]);\n",
    "    X1 = np.array(X1)\n",
    "    return X1"
   ]
  },
  {
   "cell_type": "code",
   "execution_count": 6,
   "id": "67885759-9e29-4e32-9f4e-2c1ad6d90e7b",
   "metadata": {},
   "outputs": [
    {
     "name": "stdout",
     "output_type": "stream",
     "text": [
      "[(3900, 27), (3900, 1)]\n",
      "[(3510, 1), (390, 1), 0.767948717948718]\n"
     ]
    }
   ],
   "source": [
    "chois_reg_small = resample(chois_reg[0:5000], 4);\n",
    "answers_reg_small = resample(answers_reg[0:5000], 4);\n",
    "for i in range(5000, len(answers_reg), 5000):\n",
    "    chois_reg_small=np.concatenate((chois_reg_small, resample(chois_reg[i:i+5000], 4)), axis=0);\n",
    "    answers_reg_small=np.concatenate((answers_reg_small, resample(answers_reg[i:i+5000], 4)), axis=0);\n",
    "    \n",
    "X = chois_reg_small\n",
    "y = answers_reg_small\n",
    "\n",
    "print([X.shape, y.shape])\n",
    "\n",
    "X_train, X_test, y_train, y_test = \\\n",
    "    train_test_split(X, y, test_size=.1, random_state=777)\n",
    "\n",
    "X_other = chois_other\n",
    "y_other = answers_other\n",
    "print([y_train.shape, y_test.shape, np.sum(y)/y.size])"
   ]
  },
  {
   "cell_type": "code",
   "execution_count": 7,
   "id": "4f6e6ce9-0dd0-49de-a24a-f89b1af86968",
   "metadata": {},
   "outputs": [],
   "source": [
    "h = .02 \n",
    "names = [ \"Random Forest    \"]\n",
    "classifiers = [ RandomForestClassifier(max_depth=5, n_estimators=50)]"
   ]
  },
  {
   "cell_type": "code",
   "execution_count": 8,
   "id": "051907a8-cc3b-423e-ad84-6528860515bb",
   "metadata": {},
   "outputs": [
    {
     "name": "stdout",
     "output_type": "stream",
     "text": [
      "Random Forest       0.864;   0.947;   0.864;   0.889;   0.966;   0.926;   0.910;   0.832\n"
     ]
    }
   ],
   "source": [
    "name = names[0]\n",
    "clf = classifiers[0]\n",
    "clf.fit(X_train, y_train)\n",
    "score_all = clf.score(chois_reg, answers_reg)\n",
    "score0 = clf.score(chois_reg_small, answers_reg_small)\n",
    "score = clf.score(chois_reg, answers_reg)\n",
    "score_other = clf.score(X_other, y_other)\n",
    "y_t = clf.predict(X_train)\n",
    "y_p = clf.predict(X_other)\n",
    "f1_t = metrics.f1_score(y_train, y_t)\n",
    "f1_p = metrics.f1_score(y_other, y_p)\n",
    "auc_t = metrics.roc_auc_score(y_train, y_t)\n",
    "auc_p = metrics.roc_auc_score(y_other, y_p)\n",
    "print((name+\"   {:.3f};   {:.3f};   {:.3f};   {:.3f};   {:.3f};   {:.3f};   {:.3f};   {:.3f}\").format(score_all, score0, score, score_other, f1_t, f1_p, auc_t, auc_p))"
   ]
  },
  {
   "cell_type": "code",
   "execution_count": 9,
   "id": "af50de5b-727a-428b-b958-db91cfcfb263",
   "metadata": {},
   "outputs": [
    {
     "name": "stdout",
     "output_type": "stream",
     "text": [
      "[(3510,), (3510, 27)]\n"
     ]
    }
   ],
   "source": [
    "print([(y_t.reshape(y_t.size)!=y_train.reshape(y_t.size)).shape, X_train.shape])\n",
    "x_train_false = X_train[np.transpose(np.tile(y_t.reshape(y_t.size)!=y_train.reshape(y_t.size), (X_train.shape[1], 1)))].reshape(-1,27)\n",
    "x_train_true = X_train[np.transpose(np.tile(y_t.reshape(y_t.size)==y_train.reshape(y_t.size), (X_train.shape[1], 1)))].reshape(-1,27)\n",
    "x_proba_false = clf.predict_proba(x_train_false)\n",
    "x_proba_true = clf.predict_proba(x_train_true)"
   ]
  },
  {
   "cell_type": "code",
   "execution_count": 10,
   "id": "d8672b45-84d1-4cef-8712-cbe6b4ccd647",
   "metadata": {},
   "outputs": [
    {
     "data": {
      "image/png": "[encoded data removed]",
      "text/plain": [
       "<Figure size 432x288 with 4 Axes>"
      ]
     },
     "metadata": {
      "needs_background": "light"
     },
     "output_type": "display_data"
    }
   ],
   "source": [
    "import matplotlib.pyplot as plt\n",
    "plt.subplot(2, 2, 1)\n",
    "n, bins, patches = plt.hist(x_proba_false[:,0], 50)\n",
    "plt.subplot(2, 2, 2)\n",
    "n, bins, patches = plt.hist(x_proba_false[:,1], 50)\n",
    "plt.subplot(2, 2, 3)\n",
    "n, bins, patches = plt.hist(x_proba_true[:,0], 50)\n",
    "plt.subplot(2, 2, 4)\n",
    "n, bins, patches = plt.hist(x_proba_true[:,1], 50)\n",
    "plt.show()"
   ]
  },
  {
   "cell_type": "code",
   "execution_count": 11,
   "id": "64e94bb1-2c23-4a1c-9b33-c2f873e55ec4",
   "metadata": {},
   "outputs": [],
   "source": [
    "X_train_cor = np.concatenate((X_train, clf.predict_proba(X_train)), axis=1)\n",
    "X_test_cor = np.concatenate((X_test, clf.predict_proba(X_test)), axis=1)\n",
    "X_other_cor = np.concatenate((X_other, clf.predict_proba(X_other)), axis=1)\n",
    "y_train_cor = clf.predict(X_train).reshape(y_train.size)!=y_train.reshape(y_train.size)\n",
    "y_test_cor = clf.predict(X_test).reshape(y_test.size)!=y_test.reshape(y_test.size)\n",
    "y_other_cor = clf.predict(X_other).reshape(y_other.size)!=y_other.reshape(y_other.size)\n"
   ]
  },
  {
   "cell_type": "code",
   "execution_count": 12,
   "id": "939b90be-0a6b-47f3-aa22-35d6174ea835",
   "metadata": {},
   "outputs": [],
   "source": [
    "names_cor = [\n",
    "    \"Nearest Neighbors\", \n",
    "    \"Linear SVM       \",\n",
    "    \"Poly SVM         \",\n",
    "    \"sigmoid SVM      \",\n",
    "    \"RBF SVM          \", \n",
    "    \"Decision Tree    \",\n",
    "    \"Random Forest    \",\n",
    "    \"Neural Net       \",\n",
    "    \"AdaBoost         \",\n",
    "    \"Naive Bayes      \",\n",
    "    \"LDA              \",\n",
    "    \"QDA              \"\n",
    "    ]\n",
    "\n",
    "classifiers_cor = [ \n",
    "    KNeighborsClassifier(3),\n",
    "    SVC(kernel=\"linear\"),\n",
    "    SVC(kernel=\"poly\", degree=3),\n",
    "    SVC(kernel=\"sigmoid\"),\n",
    "    SVC(),\n",
    "    DecisionTreeClassifier(max_depth=5),\n",
    "    RandomForestClassifier(max_depth=5, n_estimators=100),\n",
    "    MLPClassifier(alpha=0.01,hidden_layer_sizes=[32, 8]),\n",
    "    AdaBoostClassifier(DecisionTreeClassifier(max_depth=5), n_estimators=100),\n",
    "    GaussianNB(),\n",
    "    LinearDiscriminantAnalysis(),\n",
    "    QuadraticDiscriminantAnalysis() \n",
    "    ]"
   ]
  },
  {
   "cell_type": "code",
   "execution_count": 13,
   "id": "456c50e3-b25f-4884-bc76-bca6b343d5e5",
   "metadata": {},
   "outputs": [
    {
     "name": "stdout",
     "output_type": "stream",
     "text": [
      "Nearest Neighbors   0.98433;   0.95128;   0.92940;   0.84330;   0.62764;   0.89729;   0.75765\n",
      "Linear SVM          0.94729;   0.94359;   0.88920;   0.00000;   0.00000;   0.50000;   0.50000\n",
      "Poly SVM            0.94729;   0.94359;   0.88920;   0.00000;   0.00000;   0.50000;   0.50000\n",
      "sigmoid SVM         0.94729;   0.94359;   0.88920;   0.00000;   0.00000;   0.50000;   0.50000\n",
      "RBF SVM             0.94729;   0.94359;   0.88920;   0.00000;   0.00000;   0.50000;   0.50000\n",
      "Decision Tree       0.97550;   0.94615;   0.86420;   0.74706;   0.30359;   0.83903;   0.60287\n",
      "Random Forest       0.95983;   0.94872;   0.89050;   0.38428;   0.02493;   0.61892;   0.50626\n",
      "Neural Net          0.95869;   0.95641;   0.92380;   0.55927;   0.62757;   0.74083;   0.77307\n",
      "AdaBoost            1.00000;   0.97179;   0.89940;   1.00000;   0.24361;   1.00000;   0.56973\n",
      "Naive Bayes         0.78860;   0.75897;   0.71060;   0.32299;   0.42738;   0.86800;   0.82621\n",
      "LDA                 0.94644;   0.94103;   0.88880;   0.05051;   0.00537;   0.51231;   0.50096\n",
      "QDA                 0.84929;   0.82308;   0.76780;   0.39955;   0.32578;   0.89748;   0.65335\n"
     ]
    }
   ],
   "source": [
    "for name_cor, clf_cor in zip(names_cor, classifiers_cor):\n",
    "    clf_cor.fit(X_train_cor, y_train_cor)\n",
    "    score0 = clf_cor.score(X_train_cor, y_train_cor)\n",
    "    score = clf_cor.score(X_test_cor, y_test_cor)\n",
    "    score_other = clf_cor.score(X_other_cor, y_other_cor)\n",
    "    y_t = clf_cor.predict(X_train_cor)\n",
    "    y_p = clf_cor.predict(X_other_cor)\n",
    "    \n",
    "    \n",
    "    f1_t = metrics.f1_score(y_train_cor, y_t)\n",
    "    f1_p = metrics.f1_score(y_other_cor, y_p)\n",
    "    auc_t = metrics.roc_auc_score(y_train_cor, y_t)\n",
    "    auc_p = metrics.roc_auc_score(y_other_cor, y_p)\n",
    "    \n",
    "    print((name_cor+\"   {:.5f};   {:.5f};   {:.5f};   {:.5f};   {:.5f};   {:.5f};   {:.5f}\").format(score0, score, score_other, f1_t, f1_p, auc_t, auc_p))    "
   ]
  },
  {
   "cell_type": "code",
   "execution_count": 14,
   "id": "a60d0487-0ba9-4fa4-b762-d1712cd5990d",
   "metadata": {},
   "outputs": [],
   "source": [
    "clf_cor = DecisionTreeClassifier(max_depth=5)\n",
    "clf_cor.fit(X_train_cor, y_train_cor)\n",
    "\n",
    "answer_nn = clf.predict(chois_reg)\n",
    "answer_o = clf.predict(chois_other)\n",
    "clf_proba = clf.predict_proba(chois_reg)[:, 0]\n",
    "clf_proba = np.logical_and(clf_proba > 0.4, clf_proba < 0.6)\n",
    "clf_proba_o = clf.predict_proba(chois_other)[:, 0]\n",
    "clf_proba_o = np.logical_and(clf_proba_o > 0.4, clf_proba_o < 0.6)\n",
    "\n",
    "chois_reg_cor = np.concatenate((chois_reg, clf.predict_proba(chois_reg)), axis=1)\n",
    "answer_cor = clf_cor.predict(chois_reg_cor)"
   ]
  },
  {
   "cell_type": "code",
   "execution_count": 15,
   "id": "1e758284-9478-44fe-8543-af352f4d1f73",
   "metadata": {},
   "outputs": [
    {
     "data": {
      "image/png": "[encoded data removed]",
      "text/plain": [
       "<Figure size 864x576 with 6 Axes>"
      ]
     },
     "metadata": {
      "needs_background": "light"
     },
     "output_type": "display_data"
    }
   ],
   "source": [
    "def plt_text():\n",
    "    plt.xticks([0, 10, 20, 30, 40, 50],[r'$0$',r'$\\frac{\\pi}{5}$',r'$\\frac{2\\pi}{5}$',r'$\\frac{3\\pi}{5}$',r'$\\frac{4\\pi}{5}$',r'$\\pi$'])\n",
    "    plt.yticks([0, 50, 100],[r'$0$',r'$\\pi$',r'$2\\pi$'])\n",
    "    plt.xlabel(r'$E$')\n",
    "    plt.ylabel(r'$\\omega$')\n",
    "\n",
    "\n",
    "plt.rcParams['figure.figsize'] = (12, 8)\n",
    "N1 = 0\n",
    "N2 = 5000\n",
    "\n",
    "ax = plt.subplot(231)\n",
    "c = ax.pcolormesh(np.transpose(np.reshape(answers_other[N1:N1+5000], (50,100))), cmap='Blues_r')\n",
    "plt_text()\n",
    "ax.set_title(r'$Original$ 3pion8')\n",
    "\n",
    "ax = plt.subplot(234)\n",
    "c = ax.pcolormesh(np.transpose(np.reshape(answers_other[N2:N2+5000], (50,100))), cmap='Blues_r')\n",
    "plt_text()\n",
    "ax.set_title(r'$Original Y$ 3pion8')\n",
    "\n",
    "ax = plt.subplot(232)\n",
    "c = ax.pcolormesh(np.transpose(np.reshape(clf_proba_o[N1:N1+5000], (50,100))), cmap='summer')\n",
    "plt_text()\n",
    "ax.set_title(r'$Border$ 3pion8')\n",
    "\n",
    "ax = plt.subplot(235)\n",
    "c = ax.pcolormesh(np.transpose(np.reshape(clf_proba_o[N2:N2+5000], (50,100))), cmap='summer')\n",
    "plt_text()\n",
    "ax.set_title(r'$Border Y$ 3pion8')\n",
    "\n",
    "\n",
    "miss = np.transpose(np.logical_xor(answer_o, np.transpose(answers_other)))\n",
    "ax = plt.subplot(233)\n",
    "c = ax.pcolormesh(np.transpose(np.reshape(miss[N1:N1+5000], (50,100))), cmap='hot')\n",
    "plt_text()\n",
    "ax.set_title(r'$RF_{miss}$')\n",
    "\n",
    "ax = plt.subplot(236)\n",
    "c = ax.pcolormesh(np.transpose(np.reshape(miss[N2:N2+5000], (50,100))), cmap='hot')\n",
    "plt_text()\n",
    "ax.set_title(r'$RF Y_{miss}$')\n",
    "'''\n",
    "ax = plt.subplot(247)\n",
    "c = ax.pcolormesh(np.transpose(np.reshape(answer_cor[N1:N1+5000], (50,100))), cmap='summer')\n",
    "plt_text()\n",
    "ax.set_title(r'$Cor$')\n",
    "\n",
    "ax = plt.subplot(248)\n",
    "c = ax.pcolormesh(np.transpose(np.reshape(answer_cor[N2:N2+5000], (50,100))), cmap='summer')\n",
    "plt_text()\n",
    "ax.set_title(r'$Cor Y$')\n",
    "'''\n",
    "\n",
    "plt.tight_layout()\n",
    "plt.show()"
   ]
  },
  {
   "cell_type": "code",
   "execution_count": 16,
   "id": "9359d38b-6575-4a2b-8929-caebb7f98f68",
   "metadata": {},
   "outputs": [],
   "source": [
    "answer_rf_other = clf.predict(chois_other)\n",
    "clf_proba_other = clf.predict_proba(chois_other)[:, 0]\n",
    "clf_proba_other = np.logical_and(clf_proba_other > 0.4, clf_proba_other < 0.6)\n",
    "\n",
    "chois_other_cor = np.concatenate((chois_other, clf.predict_proba(chois_other)), axis=1)\n",
    "answer_other_cor = clf_cor.predict(chois_other_cor)"
   ]
  },
  {
   "cell_type": "code",
   "execution_count": 17,
   "id": "44821725-a1f9-4d50-bfb2-7dc5927753b3",
   "metadata": {},
   "outputs": [
    {
     "data": {
      "image/png": "[encoded data removed]",
      "text/plain": [
       "<Figure size 864x576 with 8 Axes>"
      ]
     },
     "metadata": {
      "needs_background": "light"
     },
     "output_type": "display_data"
    }
   ],
   "source": [
    "\n",
    "ax = plt.subplot(241)\n",
    "c = ax.pcolormesh(np.transpose(np.reshape(answers_other[0:5000], (50,100))), cmap='Blues_r')\n",
    "plt_text()\n",
    "ax.set_title(r'$Original$')\n",
    "\n",
    "ax = plt.subplot(242)\n",
    "c = ax.pcolormesh(np.transpose(np.reshape(answers_other[5000:10000], (50,100))), cmap='Blues_r')\n",
    "plt_text()\n",
    "ax.set_title(r'$Original Y$')\n",
    "\n",
    "ax = plt.subplot(243)\n",
    "c = ax.pcolormesh(np.transpose(np.reshape(clf_proba_other[0:5000], (50,100))), cmap='summer')\n",
    "plt_text()\n",
    "ax.set_title(r'$Border$')\n",
    "\n",
    "ax = plt.subplot(244)\n",
    "c = ax.pcolormesh(np.transpose(np.reshape(clf_proba_other[5000:10000], (50,100))), cmap='summer')\n",
    "plt_text()\n",
    "ax.set_title(r'$Border Y$')\n",
    "\n",
    "\n",
    "miss = np.transpose(np.logical_xor(answer_rf_other, np.transpose(answers_other)))\n",
    "ax = plt.subplot(245)\n",
    "c = ax.pcolormesh(np.transpose(np.reshape(miss[0:5000], (50,100))), cmap='hot')\n",
    "plt_text()\n",
    "ax.set_title(r'$RF_{miss}$')\n",
    "\n",
    "ax = plt.subplot(246)\n",
    "c = ax.pcolormesh(np.transpose(np.reshape(miss[5000:10000], (50,100))), cmap='hot')\n",
    "plt_text()\n",
    "ax.set_title(r'$RF Y_{miss}$')\n",
    "\n",
    "ax = plt.subplot(247)\n",
    "c = ax.pcolormesh(np.transpose(np.reshape(answer_other_cor[0:5000], (50,100))), cmap='summer')\n",
    "plt_text()\n",
    "ax.set_title(r'$Cor$')\n",
    "\n",
    "ax = plt.subplot(248)\n",
    "c = ax.pcolormesh(np.transpose(np.reshape(answer_other_cor[5000:10000], (50,100))), cmap='summer')\n",
    "plt_text()\n",
    "ax.set_title(r'$Cor Y$')\n",
    "\n",
    "plt.tight_layout()\n",
    "plt.show()"
   ]
  },
  {
   "cell_type": "code",
   "execution_count": 18,
   "id": "ed21a72b-8a2f-4abc-9219-a4e487b43e04",
   "metadata": {},
   "outputs": [
    {
     "name": "stdout",
     "output_type": "stream",
     "text": [
      "(15000, 27)\n",
      "(924, 27)\n",
      "((4471, 27), (3900, 27))\n"
     ]
    }
   ],
   "source": [
    "chois_reg_2 = resample(chois_reg[0:5000], 2);\n",
    "answers_reg_2 = resample(answers_reg[0:5000], 2);\n",
    "for i in range(5000, len(answers_reg), 5000):\n",
    "    chois_reg_2=np.concatenate((chois_reg_2, resample(chois_reg[i:i+5000], 2)), axis=0);\n",
    "    answers_reg_2=np.concatenate((answers_reg_2, resample(answers_reg[i:i+5000], 2)), axis=0);\n",
    "print(chois_reg_2.shape)\n",
    "clf_proba_sup = clf.predict_proba(chois_reg_2)[:, 0]\n",
    "clf_proba_sup = np.logical_and(clf_proba_sup > 0.4, clf_proba_sup < 0.6)\n",
    "chois_new = chois_reg_2[clf_proba_sup]\n",
    "answers_new = answers_reg_2[clf_proba_sup]\n",
    "print(chois_new.shape)\n",
    "\n",
    "chois_new = np.concatenate((chois_new, chois_reg_small), axis=0)\n",
    "answers_new = np.concatenate((answers_new, answers_reg_small), axis=0)\n",
    "chois_new, indices = np.unique(chois_new, axis = 0, return_index=True)\n",
    "answers_new = answers_new[indices]\n",
    "print ((chois_new.shape, chois_reg_small.shape))"
   ]
  },
  {
   "cell_type": "code",
   "execution_count": 19,
   "id": "e7d0add8-d90e-419d-9715-1e7f0489f794",
   "metadata": {},
   "outputs": [
    {
     "name": "stdout",
     "output_type": "stream",
     "text": [
      "[(3900, 27), (3900, 1)]\n",
      "[(4023, 1), (448, 1), 0.767948717948718]\n",
      "Random Forest       0.930;   0.965;   0.963;   0.934;   0.968;   0.953;   0.952;   0.920\n"
     ]
    }
   ],
   "source": [
    "\n",
    "X2 = chois_new\n",
    "y2 = answers_new\n",
    "\n",
    "print([X.shape, y.shape])\n",
    "\n",
    "X_train, X_test, y_train, y_test = \\\n",
    "    train_test_split(X2, y2, test_size=.1, random_state=777)\n",
    "\n",
    "X_other = chois_other\n",
    "y_other = answers_other\n",
    "print([y_train.shape, y_test.shape, np.sum(y)/y.size])\n",
    "name = names[0]\n",
    "clf2 = classifiers[0]\n",
    "clf2.fit(X_train, y_train)\n",
    "score_all = clf2.score(chois_reg, answers_reg)\n",
    "score0 = clf.score(chois_reg_small, answers_reg_small)\n",
    "score = clf.score(chois_reg_2, answers_reg_2)\n",
    "score_other = clf2.score(X_other, y_other)\n",
    "y_t = clf2.predict(X_train)\n",
    "y_p = clf2.predict(X_other)\n",
    "f1_t = metrics.f1_score(y_train, y_t)\n",
    "f1_p = metrics.f1_score(y_other, y_p)\n",
    "auc_t = metrics.roc_auc_score(y_train, y_t)\n",
    "auc_p = metrics.roc_auc_score(y_other, y_p)\n",
    "print((name+\"   {:.3f};   {:.3f};   {:.3f};   {:.3f};   {:.3f};   {:.3f};   {:.3f};   {:.3f}\").format(score_all, score0, score, score_other, f1_t, f1_p, auc_t, auc_p))"
   ]
  },
  {
   "cell_type": "code",
   "execution_count": 20,
   "id": "d7d8aba4-12a6-4404-82f3-e7f18f3abbe8",
   "metadata": {},
   "outputs": [],
   "source": [
    "\n",
    "answer2_nn = clf2.predict(chois_reg)\n",
    "answer2_o = clf2.predict(chois_other)\n",
    "clf2_proba = clf2.predict_proba(chois_reg)[:, 0]\n",
    "clf2_proba = np.logical_and(clf2_proba > 0.4, clf2_proba < 0.6)\n",
    "clf2_proba_o = clf2.predict_proba(chois_other)[:, 0]\n",
    "clf2_proba_o = np.logical_and(clf2_proba_o > 0.4, clf2_proba_o < 0.6)"
   ]
  },
  {
   "cell_type": "code",
   "execution_count": 21,
   "id": "52304fb9-5ab8-4903-b6c8-f02071e880a7",
   "metadata": {},
   "outputs": [
    {
     "data": {
      "image/png": "[encoded data removed]",
      "text/plain": [
       "<Figure size 864x576 with 10 Axes>"
      ]
     },
     "metadata": {
      "needs_background": "light"
     },
     "output_type": "display_data"
    }
   ],
   "source": [
    "def plt_text():\n",
    "    plt.xticks([0, 10, 20, 30, 40, 50],[r'$0$',r'$\\frac{\\pi}{5}$',r'$\\frac{2\\pi}{5}$',r'$\\frac{3\\pi}{5}$',r'$\\frac{4\\pi}{5}$',r'$\\pi$'])\n",
    "    plt.yticks([0, 50, 100],[r'$0$',r'$\\pi$',r'$2\\pi$'])\n",
    "    plt.xlabel(r'$E$')\n",
    "    plt.ylabel(r'$\\omega$')\n",
    "\n",
    "\n",
    "plt.rcParams['figure.figsize'] = (12, 8)\n",
    "N1 = 0\n",
    "N2 = 30000\n",
    "\n",
    "ax = plt.subplot(251)\n",
    "c = ax.pcolormesh(np.transpose(np.reshape(answers_reg[N1:N1+5000], (50,100))), cmap='Blues_r')\n",
    "plt_text()\n",
    "ax.set_title(r'$Original$ 3pion8')\n",
    "\n",
    "ax = plt.subplot(256)\n",
    "c = ax.pcolormesh(np.transpose(np.reshape(answers_reg[N2:N2+5000], (50,100))), cmap='Blues_r')\n",
    "plt_text()\n",
    "ax.set_title(r'$Original Y$ 3pion8')\n",
    "\n",
    "ax = plt.subplot(252)\n",
    "c = ax.pcolormesh(np.transpose(np.reshape(clf_proba[N1:N1+5000], (50,100))), cmap='summer')\n",
    "plt_text()\n",
    "ax.set_title(r'$Border$ 3pion8')\n",
    "\n",
    "ax = plt.subplot(257)\n",
    "c = ax.pcolormesh(np.transpose(np.reshape(clf_proba[N2:N2+5000], (50,100))), cmap='summer')\n",
    "plt_text()\n",
    "ax.set_title(r'$Border Y$ 3pion8')\n",
    "\n",
    "\n",
    "miss = np.transpose(np.logical_xor(answer_nn, np.transpose(answers_reg)))\n",
    "ax = plt.subplot(253)\n",
    "c = ax.pcolormesh(np.transpose(np.reshape(miss[N1:N1+5000], (50,100))), cmap='hot')\n",
    "plt_text()\n",
    "ax.set_title(r'$RF_{miss}$')\n",
    "\n",
    "ax = plt.subplot(258)\n",
    "c = ax.pcolormesh(np.transpose(np.reshape(miss[N2:N2+5000], (50,100))), cmap='hot')\n",
    "plt_text()\n",
    "ax.set_title(r'$RF Y_{miss}$')\n",
    "\n",
    "\n",
    "\n",
    "ax = plt.subplot(254)\n",
    "c = ax.pcolormesh(np.transpose(np.reshape(clf2_proba[N1:N1+5000], (50,100))), cmap='summer')\n",
    "plt_text()\n",
    "ax.set_title(r'$Border2$ 3pion8')\n",
    "\n",
    "ax = plt.subplot(259)\n",
    "c = ax.pcolormesh(np.transpose(np.reshape(clf2_proba[N2:N2+5000], (50,100))), cmap='summer')\n",
    "plt_text()\n",
    "ax.set_title(r'$Border2 Y$ 3pion8')\n",
    "\n",
    "\n",
    "miss = np.transpose(np.logical_xor(answer2_nn, np.transpose(answers_reg)))\n",
    "ax = plt.subplot(255)\n",
    "c = ax.pcolormesh(np.transpose(np.reshape(miss[N1:N1+5000], (50,100))), cmap='hot')\n",
    "plt_text()\n",
    "ax.set_title(r'$RF2_{miss}$')\n",
    "\n",
    "ax = plt.subplot(2,5,10)\n",
    "c = ax.pcolormesh(np.transpose(np.reshape(miss[N2:N2+5000], (50,100))), cmap='hot')\n",
    "plt_text()\n",
    "ax.set_title(r'$RF2 Y_{miss}$')\n",
    "plt.tight_layout()\n",
    "plt.show()"
   ]
  },
  {
   "cell_type": "code",
   "execution_count": 22,
   "id": "d8ad9e58-1f68-48cb-bab6-06a5a3370ca0",
   "metadata": {},
   "outputs": [
    {
     "name": "stdout",
     "output_type": "stream",
     "text": [
      "(8608, 27)\n",
      "((12225, 27), (4471, 27))\n"
     ]
    }
   ],
   "source": [
    "clf_proba_sup = clf2.predict_proba(chois_reg)[:, 0]\n",
    "clf_proba_sup = np.logical_and(clf_proba_sup > 0.4, clf_proba_sup < 0.6)\n",
    "chois_new2 = chois_reg[clf_proba_sup]\n",
    "answers_new2 = answers_reg[clf_proba_sup]\n",
    "print(chois_new2.shape)\n",
    "\n",
    "chois_new2 = np.concatenate((chois_new2, chois_new), axis=0)\n",
    "answers_new2 = np.concatenate((answers_new2, answers_new), axis=0)\n",
    "chois_new2, indices = np.unique(chois_new2, axis = 0, return_index=True)\n",
    "answers_new2 = answers_new2[indices]\n",
    "print ((chois_new2.shape, chois_new.shape))"
   ]
  },
  {
   "cell_type": "code",
   "execution_count": 23,
   "id": "9abbbe21-6494-45bc-ad32-8fe44580016e",
   "metadata": {},
   "outputs": [
    {
     "name": "stdout",
     "output_type": "stream",
     "text": [
      "[(12225, 27), (12225, 1)]\n",
      "[(11002, 1), (1223, 1), 0.767948717948718]\n",
      "Random Forest       0.941;   0.939;   0.941;   0.965;   0.921;   0.976;   0.911;   0.960\n"
     ]
    }
   ],
   "source": [
    "\n",
    "X3 = chois_new2\n",
    "y3 = answers_new2\n",
    "\n",
    "print([X3.shape, y3.shape])\n",
    "\n",
    "X_train, X_test, y_train, y_test = \\\n",
    "    train_test_split(X3, y3, test_size=.1, random_state=777)\n",
    "\n",
    "print([y_train.shape, y_test.shape, np.sum(y)/y.size])\n",
    "name = names[0]\n",
    "clf3 = classifiers[0]\n",
    "clf3.fit(X_train, y_train)\n",
    "score_all = clf3.score(chois_reg, answers_reg)\n",
    "score0 = clf.score(chois_reg_small, answers_reg_small)\n",
    "score = clf.score(chois_reg_2, answers_reg_2)\n",
    "score_other = clf3.score(X_other, y_other)\n",
    "y_t = clf3.predict(X_train)\n",
    "y_p = clf3.predict(X_other)\n",
    "f1_t = metrics.f1_score(y_train, y_t)\n",
    "f1_p = metrics.f1_score(y_other, y_p)\n",
    "auc_t = metrics.roc_auc_score(y_train, y_t)\n",
    "auc_p = metrics.roc_auc_score(y_other, y_p)\n",
    "print((name+\"   {:.3f};   {:.3f};   {:.3f};   {:.3f};   {:.3f};   {:.3f};   {:.3f};   {:.3f}\").format(score_all, score0, score, score_other, f1_t, f1_p, auc_t, auc_p))"
   ]
  },
  {
   "cell_type": "code",
   "execution_count": 24,
   "id": "61c4f588-f52d-4a72-8d33-eab6dee0dade",
   "metadata": {},
   "outputs": [],
   "source": [
    "\n",
    "answer3_nn = clf3.predict(chois_reg)\n",
    "answer3_o = clf3.predict(chois_other)\n",
    "clf3_proba = clf3.predict_proba(chois_reg)[:, 0]\n",
    "clf3_proba = np.logical_and(clf3_proba > 0.4, clf3_proba < 0.6)\n",
    "clf3_proba_o = clf3.predict_proba(chois_other)[:, 0]\n",
    "clf3_proba_o = np.logical_and(clf3_proba_o > 0.4, clf3_proba_o < 0.6)"
   ]
  },
  {
   "cell_type": "code",
   "execution_count": 39,
   "id": "27e35e34-ee82-49a7-8972-8cf647c7c163",
   "metadata": {},
   "outputs": [
    {
     "data": {
      "image/png": "[encoded data removed]",
      "text/plain": [
       "<Figure size 1368x576 with 10 Axes>"
      ]
     },
     "metadata": {
      "needs_background": "light"
     },
     "output_type": "display_data"
    }
   ],
   "source": [
    "def plt_text():\n",
    "    plt.xticks([0, 10, 20, 30, 40, 50],[r'$0$',r'$\\frac{\\pi}{5}$',r'$\\frac{2\\pi}{5}$',r'$\\frac{3\\pi}{5}$',r'$\\frac{4\\pi}{5}$',r'$\\pi$'])\n",
    "    plt.yticks([0, 50, 100],[r'$0$',r'$\\pi$',r'$2\\pi$'])\n",
    "    plt.xlabel(r'$E$')\n",
    "    plt.ylabel(r'$\\omega$')\n",
    "\n",
    "\n",
    "plt.rcParams['figure.figsize'] = (19, 8)\n",
    "N1 = 0\n",
    "N2 = 30000\n",
    "\n",
    "ax = plt.subplot(271)\n",
    "c = ax.pcolormesh(np.transpose(np.reshape(answers_reg[N1:N1+5000], (50,100))), cmap='Blues_r')\n",
    "plt_text()\n",
    "ax.set_title(r'$I$')\n",
    "\n",
    "ax = plt.subplot(278)\n",
    "c = ax.pcolormesh(np.transpose(np.reshape(answers_reg[N2:N2+5000], (50,100))), cmap='Blues_r')\n",
    "plt_text()\n",
    "ax.set_title(r'$II$')\n",
    "\n",
    "ax = plt.subplot(272)\n",
    "c = ax.pcolormesh(np.transpose(np.reshape(clf_proba[N1:N1+5000], (50,100))), cmap='summer')\n",
    "plt_text()\n",
    "ax.set_title(r'$Conidence$ $I$ $(0)$')\n",
    "\n",
    "ax = plt.subplot(279)\n",
    "c = ax.pcolormesh(np.transpose(np.reshape(clf_proba[N2:N2+5000], (50,100))), cmap='summer')\n",
    "plt_text()\n",
    "ax.set_title(r'$Conidence$ $II$ $(0)$')\n",
    "\n",
    "\n",
    "miss = np.transpose(np.logical_xor(answer_nn, np.transpose(answers_reg)))\n",
    "ax = plt.subplot(273)\n",
    "c = ax.pcolormesh(np.transpose(np.reshape(miss[N1:N1+5000], (50,100))), cmap='hot')\n",
    "plt_text()\n",
    "ax.set_title(r'$Miss$ $I$ $(0)$')\n",
    "\n",
    "ax = plt.subplot(2,7,10)\n",
    "c = ax.pcolormesh(np.transpose(np.reshape(miss[N2:N2+5000], (50,100))), cmap='hot')\n",
    "plt_text()\n",
    "ax.set_title(r'$Miss$ $II$ $(0)$')\n",
    "\n",
    "\n",
    "\n",
    "ax = plt.subplot(274)\n",
    "c = ax.pcolormesh(np.transpose(np.reshape(clf2_proba[N1:N1+5000], (50,100))), cmap='summer')\n",
    "plt_text()\n",
    "ax.set_title(r'$Conidence$ $I$ $(1)$')\n",
    "\n",
    "ax = plt.subplot(2,7,11)\n",
    "c = ax.pcolormesh(np.transpose(np.reshape(clf2_proba[N2:N2+5000], (50,100))), cmap='summer')\n",
    "plt_text()\n",
    "ax.set_title(r'$Conidence$ $II$ $(1)$')\n",
    "\n",
    "\n",
    "miss = np.transpose(np.logical_xor(answer2_nn, np.transpose(answers_reg)))\n",
    "ax = plt.subplot(275)\n",
    "c = ax.pcolormesh(np.transpose(np.reshape(miss[N1:N1+5000], (50,100))), cmap='hot')\n",
    "plt_text()\n",
    "ax.set_title(r'$Miss$ $I$ $(1)$')\n",
    "\n",
    "ax = plt.subplot(2,7,12)\n",
    "c = ax.pcolormesh(np.transpose(np.reshape(miss[N2:N2+5000], (50,100))), cmap='hot')\n",
    "plt_text()\n",
    "ax.set_title(r'$Miss$ $II$ $(1)$')\n",
    "plt.tight_layout()\n",
    "plt.show()\n",
    "\n",
    "\n"
   ]
  },
  {
   "cell_type": "code",
   "execution_count": null,
   "id": "a2b4bbf3-3931-445b-8753-a6615ccd8e91",
   "metadata": {},
   "outputs": [],
   "source": [
    "\n",
    "X_all = chois_reg\n",
    "y_all = answers_reg\n",
    "\n",
    "print([X_all.shape, y_all.shape])\n",
    "\n",
    "X_train, X_test, y_train, y_test = \\\n",
    "    train_test_split(X_all, y_all, test_size=.1, random_state=777)\n",
    "\n",
    "print([y_train.shape, y_test.shape, np.sum(y)/y.size])\n",
    "\n",
    "name = names[0]\n",
    "clf_all = classifiers[0]\n",
    "clf_all.fit(chois_reg, answers_reg)\n",
    "score_all = clf_all.score(chois_reg, answers_reg)\n",
    "score0 = clf.score(chois_reg_small, answers_reg_small)\n",
    "score = clf.score(chois_reg_2, answers_reg_2)\n",
    "score_other = clf_all.score(X_other, y_other)\n",
    "y_t = clf_all.predict(X_train)\n",
    "y_p = clf_all.predict(X_other)\n",
    "f1_t = metrics.f1_score(y_train, y_t)\n",
    "f1_p = metrics.f1_score(y_other, y_p)\n",
    "auc_t = metrics.roc_auc_score(y_train, y_t)\n",
    "auc_p = metrics.roc_auc_score(y_other, y_p)\n",
    "print((name+\"   {:.3f};   {:.3f};   {:.3f};   {:.3f};   {:.3f};   {:.3f};   {:.3f};   {:.3f}\").format(score_all, score0, score, score_other, f1_t, f1_p, auc_t, auc_p))"
   ]
  },
  {
   "cell_type": "code",
   "execution_count": null,
   "id": "e344d846-fdeb-4ed6-8423-48645343d26f",
   "metadata": {},
   "outputs": [],
   "source": []
  },
  {
   "cell_type": "code",
   "execution_count": null,
   "id": "abb0887e-026d-4fe5-8df9-259c84a42fbf",
   "metadata": {},
   "outputs": [],
   "source": []
  }
 ],
 "metadata": {
  "kernelspec": {
   "display_name": "Python 3 (ipykernel)",
   "language": "python",
   "name": "python3"
  },
  "language_info": {
   "codemirror_mode": {
    "name": "ipython",
    "version": 3
   },
   "file_extension": ".py",
   "mimetype": "text/x-python",
   "name": "python",
   "nbconvert_exporter": "python",
   "pygments_lexer": "ipython3",
   "version": "3.7.8"
  }
 },
 "nbformat": 4,
 "nbformat_minor": 5
}
