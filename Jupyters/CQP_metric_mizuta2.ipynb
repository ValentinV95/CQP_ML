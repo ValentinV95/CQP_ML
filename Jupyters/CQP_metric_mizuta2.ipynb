{
 "cells": [
  {
   "cell_type": "code",
   "execution_count": 28,
   "id": "927596fb-708f-49a0-9072-fbed5efa122b",
   "metadata": {},
   "outputs": [],
   "source": [
    "import numpy as np\n",
    "from time import process_time\n",
    "from scipy.io import loadmat\n",
    "\n",
    "import warnings\n",
    "warnings.filterwarnings(\"ignore\")\n",
    "N = 16"
   ]
  },
  {
   "cell_type": "code",
   "execution_count": 21,
   "id": "3e16d040-269b-4c71-8db1-b3ab058d4320",
   "metadata": {},
   "outputs": [],
   "source": [
    "pd = '' #path with data"
   ]
  },
  {
   "cell_type": "code",
   "execution_count": 22,
   "id": "b6d354e6-7c9e-4f88-b014-4ffecd5d1387",
   "metadata": {},
   "outputs": [],
   "source": [
    "data = loadmat(pd+'dataAnswer_mizuta_0_0.2_1.mat')\n",
    "answers_reg = (np.array(data['answers']))\n",
    "data = loadmat(pd+'dataChoi2_mizuta_0_0.2_1.mat')\n",
    "chois_reg = np.array(data['choi'])\n",
    "answers_reg[answers_reg<3] = 0\n",
    "answers_reg[answers_reg==3] = 1\n",
    "\n",
    "data = loadmat(pd+'dataAnswer_mizuta_0.1_0.2_0.9.mat')\n",
    "answers_other = (np.array(data['answers']))\n",
    "data = loadmat(pd+'dataChoi2_mizuta_0.1_0.2_0.9.mat')\n",
    "chois_other = np.array(data['choi'])\n",
    "answers_other[answers_other<3] = 0\n",
    "answers_other[answers_other==3] = 1\n"
   ]
  },
  {
   "cell_type": "code",
   "execution_count": 23,
   "id": "493ac358-1751-4d13-9afb-1877f56fb98e",
   "metadata": {},
   "outputs": [],
   "source": [
    "from sklearn.model_selection import train_test_split\n",
    "from sklearn.preprocessing import StandardScaler\n",
    "from sklearn.datasets import make_moons, make_circles, make_classification\n",
    "from sklearn.neural_network import MLPClassifier\n",
    "from sklearn.neighbors import KNeighborsClassifier\n",
    "from sklearn.svm import SVC\n",
    "from sklearn.svm import NuSVC\n",
    "from sklearn.tree import DecisionTreeClassifier\n",
    "from sklearn.ensemble import RandomForestClassifier, AdaBoostClassifier\n",
    "from sklearn.naive_bayes import GaussianNB\n",
    "from sklearn.discriminant_analysis import QuadraticDiscriminantAnalysis\n",
    "from sklearn.discriminant_analysis import LinearDiscriminantAnalysis\n",
    "from sklearn.metrics import f1_score\n",
    "from sklearn import metrics\n",
    "from sklearn.linear_model import Ridge"
   ]
  },
  {
   "cell_type": "code",
   "execution_count": 24,
   "id": "67885759-9e29-4e32-9f4e-2c1ad6d90e7b",
   "metadata": {},
   "outputs": [
    {
     "name": "stdout",
     "output_type": "stream",
     "text": [
      "[(60000, 256), (60000, 1)]\n",
      "[(54000, 1), (6000, 1), 0.5557666666666666]\n"
     ]
    }
   ],
   "source": [
    "X = chois_reg\n",
    "y = answers_reg\n",
    "\n",
    "print([X.shape, y.shape])\n",
    "\n",
    "X_train, X_test, y_train, y_test = \\\n",
    "    train_test_split(X, y, test_size=.1, random_state=777)\n",
    "\n",
    "X_other = chois_other\n",
    "y_other = answers_other\n",
    "print([y_train.shape, y_test.shape, np.sum(y)/y.size])"
   ]
  },
  {
   "cell_type": "code",
   "execution_count": 25,
   "id": "4f6e6ce9-0dd0-49de-a24a-f89b1af86968",
   "metadata": {},
   "outputs": [],
   "source": [
    "h = .02 \n",
    "names = [\n",
    "    \"Nearest Neighbors\", \n",
    "    \"Linear SVM       \",\n",
    "    \"Poly SVM         \",\n",
    "    \"sigmoid SVM      \",\n",
    "    \"RBF SVM          \", \n",
    "    \"Decision Tree    \",\n",
    "    \"Random Forest    \",\n",
    "    \"Neural Net       \",\n",
    "    \"AdaBoost         \",\n",
    "    \"Naive Bayes      \",\n",
    "    \"LDA              \",\n",
    "    \"QDA              \"\n",
    "    ]\n",
    "\n",
    "classifiers = [ \n",
    "    KNeighborsClassifier(3),\n",
    "    SVC(kernel=\"linear\"),\n",
    "    SVC(kernel=\"poly\", degree=3),\n",
    "    SVC(kernel=\"sigmoid\"),\n",
    "    SVC(),\n",
    "    DecisionTreeClassifier(max_depth=5),\n",
    "    RandomForestClassifier(max_depth=5, n_estimators=100),\n",
    "    MLPClassifier(alpha=0.01,hidden_layer_sizes=[32, 16, 8]),\n",
    "    AdaBoostClassifier(DecisionTreeClassifier(max_depth=5), n_estimators=100),\n",
    "    GaussianNB(),\n",
    "    LinearDiscriminantAnalysis(),\n",
    "    QuadraticDiscriminantAnalysis() \n",
    "    ]"
   ]
  },
  {
   "cell_type": "code",
   "execution_count": 29,
   "id": "d8ad9e58-1f68-48cb-bab6-06a5a3370ca0",
   "metadata": {},
   "outputs": [
    {
     "name": "stdout",
     "output_type": "stream",
     "text": [
      "Name   Method       Train,%;    Test,%;   Other,%;  F1_train;  F1_other; AUC_train; AUC_other\n",
      "Nearest Neighbors   0.92844;   0.87117;   0.80936;   0.93495;   0.74422;   0.92911;   0.79353\n",
      "Linear SVM          0.90544;   0.90133;   0.85996;   0.91308;   0.80481;   0.90722;   0.84014\n",
      "Poly SVM            0.93880;   0.93200;   0.90674;   0.94474;   0.87493;   0.93874;   0.89677\n",
      "sigmoid SVM         0.49961;   0.49767;   0.35928;   0.55820;   0.25901;   0.49087;   0.34667\n",
      "RBF SVM             0.89452;   0.89533;   0.85018;   0.89997;   0.78545;   0.90000;   0.82498\n",
      "Decision Tree       0.97628;   0.97550;   0.95220;   0.97869;   0.93861;   0.97603;   0.95318\n",
      "Random Forest       0.97965;   0.97950;   0.95808;   0.98160;   0.94327;   0.98032;   0.94946\n",
      "Neural Net          0.96169;   0.96050;   0.93028;   0.96618;   0.90958;   0.95901;   0.92808\n",
      "AdaBoost            1.00000;   0.99183;   0.98200;   1.00000;   0.97624;   1.00000;   0.97945\n",
      "Naive Bayes         0.80563;   0.80550;   0.65886;   0.78970;   0.22068;   0.82498;   0.55700\n",
      "LDA                 0.87183;   0.87583;   0.81260;   0.87330;   0.69945;   0.88197;   0.76643\n",
      "QDA                 0.82883;   0.82800;   0.70448;   0.81869;   0.37225;   0.84620;   0.61360\n"
     ]
    }
   ],
   "source": [
    "print(\"Name   Method       Train,%;    Test,%;   Other,%;  F1_train;  F1_other; AUC_train; AUC_other\") \n",
    "\n",
    "for name, clf in zip(names, classifiers):\n",
    "    clf.fit(X_train, y_train)\n",
    "    score0 = clf.score(X_train, y_train)\n",
    "    score = clf.score(X_test, y_test)\n",
    "    score_other = clf.score(X_other, y_other)\n",
    "    y_t = clf.predict(X_train)\n",
    "    y_p = clf.predict(X_other)\n",
    "    \n",
    "    \n",
    "    f1_t = metrics.f1_score(y_train, y_t)\n",
    "    f1_p = metrics.f1_score(y_other, y_p)\n",
    "    auc_t = metrics.roc_auc_score(y_train, y_t)\n",
    "    auc_p = metrics.roc_auc_score(y_other, y_p)\n",
    "    \n",
    "    print((name+\"   {:.5f};   {:.5f};   {:.5f};   {:.5f};   {:.5f};   {:.5f};   {:.5f}\").format(score0, score, score_other, f1_t, f1_p, auc_t, auc_p))    "
   ]
  },
  {
   "cell_type": "code",
   "execution_count": 52,
   "id": "051907a8-cc3b-423e-ad84-6528860515bb",
   "metadata": {},
   "outputs": [
    {
     "name": "stdout",
     "output_type": "stream",
     "text": [
      "   0.999;   0.994;   0.984;   0.999;   0.979;   0.999;   0.981\n"
     ]
    }
   ],
   "source": [
    "clf = RandomForestClassifier(max_depth=9, n_estimators=100)\n",
    "clf.fit(X_train, y_train)\n",
    "score0 = clf.score(X_train, y_train)\n",
    "score = clf.score(X_test, y_test)\n",
    "score_other = clf.score(X_other, y_other)\n",
    "y_t = clf.predict(X_train)\n",
    "y_reg = clf.predict(chois_reg)\n",
    "y_p = clf.predict(X_other)\n",
    "f1_t = metrics.f1_score(y_train, y_t)\n",
    "f1_p = metrics.f1_score(y_other, y_p)\n",
    "auc_t = metrics.roc_auc_score(y_train, y_t)\n",
    "auc_p = metrics.roc_auc_score(y_other, y_p)\n",
    "print((\"   {:.3f};   {:.3f};   {:.3f};   {:.3f};   {:.3f};   {:.3f};   {:.3f}\").format(score0, score, score_other, f1_t, f1_p, auc_t, auc_p))"
   ]
  },
  {
   "cell_type": "code",
   "execution_count": 53,
   "id": "d8672b45-84d1-4cef-8712-cbe6b4ccd647",
   "metadata": {},
   "outputs": [
    {
     "data": {
      "text/plain": [
       "Text(0.5, 1.0, '$Predict 0.9$')"
      ]
     },
     "execution_count": 53,
     "metadata": {},
     "output_type": "execute_result"
    },
    {
     "data": {
      "image/png": "[encoded data removed]",
      "text/plain": [
       "<Figure size 576x1152 with 8 Axes>"
      ]
     },
     "metadata": {
      "needs_background": "light"
     },
     "output_type": "display_data"
    }
   ],
   "source": [
    "import matplotlib.pyplot as plt\n",
    "plt.rcParams['figure.figsize'] = (8, 16)\n",
    "N1 = 10000\n",
    "N2 = 40000\n",
    "\n",
    "ax = plt.subplot(421)\n",
    "c = ax.pcolormesh(np.transpose(np.reshape(answers_reg[N1:N1+10000], (100,100))), cmap='Blues_r')\n",
    "ax.set_title(r'$Original 0.2$')\n",
    "\n",
    "ax = plt.subplot(422)\n",
    "c = ax.pcolormesh(np.transpose(np.reshape(y_reg[N1:N1+10000], (100,100))), cmap='Blues_r')\n",
    "ax.set_title(r'$Predict 0.2$')\n",
    "\n",
    "ax = plt.subplot(423)\n",
    "c = ax.pcolormesh(np.transpose(np.reshape(answers_reg[N2:N2+10000], (100,100))), cmap='Blues_r')\n",
    "ax.set_title(r'$Original 0.8$')\n",
    "\n",
    "ax = plt.subplot(424)\n",
    "c = ax.pcolormesh(np.transpose(np.reshape(y_reg[N2:N2+10000], (100,100))), cmap='Blues_r')\n",
    "ax.set_title(r'$Predict 0.8$')\n",
    "\n",
    "N1 = 0\n",
    "N2 = 40000\n",
    "\n",
    "ax = plt.subplot(425)\n",
    "c = ax.pcolormesh(np.transpose(np.reshape(answers_other[N1:N1+10000], (100,100))), cmap='Blues_r')\n",
    "ax.set_title(r'$Original 0.1$')\n",
    "\n",
    "ax = plt.subplot(426)\n",
    "c = ax.pcolormesh(np.transpose(np.reshape(y_p[N1:N1+10000], (100,100))), cmap='Blues_r')\n",
    "ax.set_title(r'$Predict 0.1$')\n",
    "\n",
    "ax = plt.subplot(427)\n",
    "c = ax.pcolormesh(np.transpose(np.reshape(answers_other[N2:N2+10000], (100,100))), cmap='Blues_r')\n",
    "ax.set_title(r'$Original 0.9$')\n",
    "\n",
    "ax = plt.subplot(428)\n",
    "c = ax.pcolormesh(np.transpose(np.reshape(y_p[N2:N2+10000], (100,100))), cmap='Blues_r')\n",
    "ax.set_title(r'$Predict 0.9$')"
   ]
  },
  {
   "cell_type": "code",
   "execution_count": null,
   "id": "64e94bb1-2c23-4a1c-9b33-c2f873e55ec4",
   "metadata": {},
   "outputs": [],
   "source": []
  }
 ],
 "metadata": {
  "kernelspec": {
   "display_name": "Python 3 (ipykernel)",
   "language": "python",
   "name": "python3"
  },
  "language_info": {
   "codemirror_mode": {
    "name": "ipython",
    "version": 3
   },
   "file_extension": ".py",
   "mimetype": "text/x-python",
   "name": "python",
   "nbconvert_exporter": "python",
   "pygments_lexer": "ipython3",
   "version": "3.7.8"
  }
 },
 "nbformat": 4,
 "nbformat_minor": 5
}
