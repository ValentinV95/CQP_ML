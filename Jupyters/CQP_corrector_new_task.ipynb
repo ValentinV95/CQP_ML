{
 "cells": [
  {
   "cell_type": "code",
   "execution_count": 1,
   "id": "927596fb-708f-49a0-9072-fbed5efa122b",
   "metadata": {},
   "outputs": [],
   "source": [
    "import warnings\n",
    "warnings.filterwarnings('ignore')\n",
    "import numpy as np\n",
    "from time import process_time\n",
    "from scipy.io import loadmat\n",
    "\n",
    "N = 4\n",
    "\n",
    "pd = '' #path with data"
   ]
  },
  {
   "cell_type": "code",
   "execution_count": 2,
   "id": "b6d354e6-7c9e-4f88-b014-4ffecd5d1387",
   "metadata": {},
   "outputs": [],
   "source": [
    "data = loadmat(pd+'dataAnswer_regular_from_0_to_3pion4.mat')\n",
    "answers_reg_ = np.transpose(np.array(data['answers']))\n",
    "data = loadmat(pd+'dataChoi3_sn_regular_from_0_to_3pion4.mat')\n",
    "chois_reg_ = np.array(data['choi'])\n",
    "\n",
    "data = loadmat(pd+'dataAnswer_regular_otherY_from_0_to_3pion4.mat')\n",
    "answers_Y = np.transpose(np.array(data['answers']))\n",
    "data = loadmat(pd+'dataChoi3_sn_regular_otherY_from_0_to_3pion4.mat')\n",
    "chois_Y = np.array(data['choi'])\n",
    "\n",
    "chois_reg = np.concatenate((chois_reg_, chois_Y), axis=0)\n",
    "answers_reg = np.concatenate((answers_reg_, answers_Y), axis=0)\n",
    "\n",
    "data = loadmat(pd+'dataAnswer_regular_otherX_from_0_to_3pion4.mat')\n",
    "answers_other = np.transpose(np.array(data['answers']))\n",
    "data = loadmat(pd+'dataChoi3_sn_regular_otherX_from_0_to_3pion4.mat')\n",
    "chois_other = np.array(data['choi'])\n",
    "\n",
    "data = loadmat(pd+'dataAnswer_regular_otherX_3pion8.mat')\n",
    "answers_other_2 = np.transpose(np.array(data['answers']))\n",
    "data = loadmat(pd+'dataChoi3_sn_regular_otherX_3pion8.mat')\n",
    "chois_other_2 = np.array(data['choi'])\n",
    "\n",
    "data = loadmat(pd+'dataAnswer_regular_otherY_3pion8.mat')\n",
    "answers_other3 = np.transpose(np.array(data['answers']))\n",
    "data = loadmat(pd+'dataAnswer_regular_3pion8.mat')\n",
    "answers_other4 = np.transpose(np.array(data['answers']))\n",
    "data = loadmat(pd+'dataChoi3_sn_regular_otherY_3pion8.mat')\n",
    "chois_other3 = np.array(data['choi'])\n",
    "\n",
    "#chois_other = np.concatenate((chois_other1, chois_other2), axis=0)\n",
    "#answers_other = np.concatenate((answers_other1, answers_other2), axis=0)"
   ]
  },
  {
   "cell_type": "code",
   "execution_count": 3,
   "id": "493ac358-1751-4d13-9afb-1877f56fb98e",
   "metadata": {},
   "outputs": [],
   "source": [
    "from sklearn.model_selection import train_test_split\n",
    "from sklearn.preprocessing import StandardScaler\n",
    "from sklearn.datasets import make_moons, make_circles, make_classification\n",
    "from sklearn.neural_network import MLPClassifier\n",
    "from sklearn.neighbors import KNeighborsClassifier\n",
    "from sklearn.svm import SVC\n",
    "from sklearn.svm import NuSVC\n",
    "from sklearn.tree import DecisionTreeClassifier\n",
    "from sklearn.ensemble import RandomForestClassifier, AdaBoostClassifier\n",
    "from sklearn.naive_bayes import GaussianNB\n",
    "from sklearn.discriminant_analysis import QuadraticDiscriminantAnalysis\n",
    "from sklearn.discriminant_analysis import LinearDiscriminantAnalysis\n",
    "from sklearn.metrics import f1_score\n",
    "from sklearn import metrics\n",
    "from sklearn.linear_model import Ridge"
   ]
  },
  {
   "cell_type": "code",
   "execution_count": 4,
   "id": "67885759-9e29-4e32-9f4e-2c1ad6d90e7b",
   "metadata": {},
   "outputs": [
    {
     "name": "stdout",
     "output_type": "stream",
     "text": [
      "[(60000, 15), (60000, 1)]\n",
      "[(54000, 1), (6000, 1), 0.6651]\n"
     ]
    }
   ],
   "source": [
    "X = chois_reg\n",
    "y = answers_reg\n",
    "\n",
    "print([X.shape, y.shape])\n",
    "\n",
    "X_train, X_test, y_train, y_test = \\\n",
    "    train_test_split(X, y, test_size=.1, random_state=777)\n",
    "\n",
    "X_other = chois_other\n",
    "y_other = answers_other\n",
    "print([y_train.shape, y_test.shape, np.sum(y)/y.size])"
   ]
  },
  {
   "cell_type": "code",
   "execution_count": 5,
   "id": "4f6e6ce9-0dd0-49de-a24a-f89b1af86968",
   "metadata": {},
   "outputs": [],
   "source": [
    "h = .02 \n",
    "names = [ \"Random Forest    \"]\n",
    "classifiers = [ RandomForestClassifier(max_depth=13, n_estimators=100)]"
   ]
  },
  {
   "cell_type": "code",
   "execution_count": 6,
   "id": "d8ad9e58-1f68-48cb-bab6-06a5a3370ca0",
   "metadata": {},
   "outputs": [
    {
     "data": {
      "text/plain": [
       "RandomForestClassifier(max_depth=13)"
      ]
     },
     "execution_count": 6,
     "metadata": {},
     "output_type": "execute_result"
    }
   ],
   "source": [
    "name = names[0]\n",
    "clf = classifiers[0]\n",
    "clf.fit(X_train, y_train)"
   ]
  },
  {
   "cell_type": "code",
   "execution_count": 7,
   "id": "051907a8-cc3b-423e-ad84-6528860515bb",
   "metadata": {},
   "outputs": [
    {
     "name": "stdout",
     "output_type": "stream",
     "text": [
      "Random Forest       0.998;   0.990;   0.328;   0.999;   0.494;   0.998;   0.500\n"
     ]
    }
   ],
   "source": [
    "score0 = clf.score(X_train, y_train)\n",
    "score = clf.score(X_test, y_test)\n",
    "score_other = clf.score(X_other, y_other)\n",
    "y_t = clf.predict(X_train)\n",
    "y_p = clf.predict(X_other)\n",
    "f1_t = metrics.f1_score(y_train, y_t)\n",
    "f1_p = metrics.f1_score(y_other, y_p)\n",
    "auc_t = metrics.roc_auc_score(y_train, y_t)\n",
    "auc_p = metrics.roc_auc_score(y_other, y_p)\n",
    "print((name+\"   {:.3f};   {:.3f};   {:.3f};   {:.3f};   {:.3f};   {:.3f};   {:.3f}\").format(score0, score, score_other, f1_t, f1_p, auc_t, auc_p))"
   ]
  },
  {
   "cell_type": "code",
   "execution_count": 8,
   "id": "a8a88fd0-7d7d-4c6e-a35f-a124004ef5bd",
   "metadata": {},
   "outputs": [
    {
     "name": "stdout",
     "output_type": "stream",
     "text": [
      "[(54000,), (54000, 15)]\n"
     ]
    }
   ],
   "source": [
    "print([(y_t.reshape(y_t.size)!=y_train.reshape(y_t.size)).shape, X_train.shape])\n",
    "x_train_false = X_train[np.transpose(np.tile(y_t.reshape(y_t.size)!=y_train.reshape(y_t.size), (X_train.shape[1], 1)))].reshape(-1,15)\n",
    "x_train_true = X_train[np.transpose(np.tile(y_t.reshape(y_t.size)==y_train.reshape(y_t.size), (X_train.shape[1], 1)))].reshape(-1,15)\n",
    "x_proba_false = clf.predict_proba(x_train_false)\n",
    "x_proba_true = clf.predict_proba(x_train_true)"
   ]
  },
  {
   "cell_type": "code",
   "execution_count": 9,
   "id": "fb3f1ae2-4022-4544-a240-1363d0435a6e",
   "metadata": {},
   "outputs": [
    {
     "name": "stdout",
     "output_type": "stream",
     "text": [
      "[(30000,), (30000, 15)]\n"
     ]
    }
   ],
   "source": [
    "print([(y_p.reshape(y_p.size)!=y_other.reshape(y_p.size)).shape, X_other.shape])\n",
    "x_other_false = X_other[np.transpose(np.tile(y_p.reshape(y_p.size)!=y_other.reshape(y_p.size), (X_other.shape[1], 1)))].reshape(-1,15)\n",
    "x_other_true = X_other[np.transpose(np.tile(y_p.reshape(y_p.size)==y_other.reshape(y_p.size), (X_other.shape[1], 1)))].reshape(-1,15)\n",
    "x_other_proba_false = clf.predict_proba(x_other_false)\n",
    "x_other_proba_true = clf.predict_proba(x_other_true)"
   ]
  },
  {
   "cell_type": "code",
   "execution_count": 10,
   "id": "d8672b45-84d1-4cef-8712-cbe6b4ccd647",
   "metadata": {},
   "outputs": [
    {
     "data": {
      "image/png": "[encoded data removed]",
      "text/plain": [
       "<Figure size 432x288 with 4 Axes>"
      ]
     },
     "metadata": {
      "needs_background": "light"
     },
     "output_type": "display_data"
    }
   ],
   "source": [
    "import matplotlib.pyplot as plt\n",
    "plt.subplot(2, 2, 1)\n",
    "n, bins, patches = plt.hist(x_proba_false[:,0], 50)\n",
    "plt.subplot(2, 2, 2)\n",
    "n, bins, patches = plt.hist(x_proba_false[:,1], 50)\n",
    "plt.subplot(2, 2, 3)\n",
    "n, bins, patches = plt.hist(x_proba_true[:,0], 50)\n",
    "plt.subplot(2, 2, 4)\n",
    "n, bins, patches = plt.hist(x_proba_true[:,1], 50)\n",
    "plt.show()"
   ]
  },
  {
   "cell_type": "code",
   "execution_count": 11,
   "id": "cb42b66f-92ba-4098-b40a-1c61a5df90da",
   "metadata": {},
   "outputs": [
    {
     "data": {
      "image/png": "[encoded data removed]",
      "text/plain": [
       "<Figure size 432x288 with 4 Axes>"
      ]
     },
     "metadata": {
      "needs_background": "light"
     },
     "output_type": "display_data"
    }
   ],
   "source": [
    "plt.subplot(2, 2, 1)\n",
    "n, bins, patches = plt.hist(x_other_proba_false[:,0], 50)\n",
    "plt.subplot(2, 2, 2)\n",
    "n, bins, patches = plt.hist(x_other_proba_false[:,1], 50)\n",
    "plt.subplot(2, 2, 3)\n",
    "n, bins, patches = plt.hist(x_other_proba_true[:,0], 50)\n",
    "plt.subplot(2, 2, 4)\n",
    "n, bins, patches = plt.hist(x_other_proba_true[:,1], 50)\n",
    "plt.show()"
   ]
  },
  {
   "cell_type": "code",
   "execution_count": 12,
   "id": "64e94bb1-2c23-4a1c-9b33-c2f873e55ec4",
   "metadata": {},
   "outputs": [
    {
     "name": "stdout",
     "output_type": "stream",
     "text": [
      "[(60000, 15), (60000, 1)]\n",
      "[(3164, 15), (3164, 1)]\n",
      "[(27437, 15), (27437, 1)]\n",
      "[(21949, 1), (5488, 1), 0.29693479607828843]\n",
      "[(5000, 15), 0.3844]\n"
     ]
    }
   ],
   "source": [
    "print([chois_reg.shape, answers_reg.shape])\n",
    "\n",
    "clf_proba = clf.predict_proba(chois_reg)[:, 0]\n",
    "clf_proba = np.logical_and(clf_proba > 0.1, clf_proba < 0.9)\n",
    "chois_reg_cor = chois_reg[np.transpose(clf_proba == 1), :]\n",
    "answers_reg_cor = answers_reg[clf_proba == 1, :]\n",
    "\n",
    "\n",
    "print([chois_reg_cor.shape, answers_reg_cor.shape])\n",
    "\n",
    "clf_proba = clf.predict_proba(chois_other)[:, 0]\n",
    "clf_proba = np.logical_and(clf_proba > 0.1, clf_proba < 0.9)\n",
    "chois_other_cor = chois_other[clf_proba == 1, :]\n",
    "answers_other_cor = answers_other[clf_proba == 1, :]\n",
    "\n",
    "\n",
    "X_cor = chois_other_cor \n",
    "y_cor = answers_other_cor \n",
    "\n",
    "print([X_cor.shape, y_cor.shape])\n",
    "\n",
    "X_cor_train, X_cor_test, y_cor_train, y_cor_test = \\\n",
    "    train_test_split(X_cor, y_cor, test_size=.2, random_state=777)\n",
    "\n",
    "X_cor_other = chois_other_2\n",
    "y_cor_other = answers_other_2\n",
    "print([y_cor_train.shape, y_cor_test.shape, np.sum(y_cor)/y_cor.size])\n",
    "print([X_cor_other.shape, np.sum(y_cor_other)/y_cor_other.size])"
   ]
  },
  {
   "cell_type": "code",
   "execution_count": 13,
   "id": "939b90be-0a6b-47f3-aa22-35d6174ea835",
   "metadata": {},
   "outputs": [],
   "source": [
    "names_cor = [\n",
    "    \"Nearest Neighbors\", \n",
    "    \"Linear SVM       \",\n",
    "    \"Poly SVM         \",\n",
    "    \"sigmoid SVM      \",\n",
    "    \"RBF SVM          \", \n",
    "    \"Decision Tree    \",\n",
    "    \"Random Forest    \",\n",
    "    \"Neural Net       \",\n",
    "    \"AdaBoost         \",\n",
    "    \"Naive Bayes      \",\n",
    "    \"LDA              \",\n",
    "    \"QDA              \"\n",
    "    ]\n",
    "\n",
    "classifiers_cor = [ \n",
    "    KNeighborsClassifier(3),\n",
    "    SVC(kernel=\"linear\"),\n",
    "    SVC(kernel=\"poly\", degree=23),\n",
    "    SVC(kernel=\"sigmoid\"),\n",
    "    SVC(),\n",
    "    DecisionTreeClassifier(max_depth=13),\n",
    "    RandomForestClassifier(max_depth=13, n_estimators=100),\n",
    "    MLPClassifier(alpha=0.01,hidden_layer_sizes=[128, 32, 8, 8]),\n",
    "    AdaBoostClassifier(DecisionTreeClassifier(max_depth=9), n_estimators=250),\n",
    "    GaussianNB(),\n",
    "    LinearDiscriminantAnalysis(),\n",
    "    QuadraticDiscriminantAnalysis() \n",
    "    ]"
   ]
  },
  {
   "cell_type": "code",
   "execution_count": 14,
   "id": "456c50e3-b25f-4884-bc76-bca6b343d5e5",
   "metadata": {},
   "outputs": [
    {
     "name": "stdout",
     "output_type": "stream",
     "text": [
      "Name   Method       Train,%;    Test,%;   Other,%;  F1_train;  F1_other; AUC_train; AUC_other\n",
      "Nearest Neighbors   0.98989;   0.97285;   0.93860;   0.98305;   0.92020;   0.98822;   0.93528\n",
      "Linear SVM          0.83120;   0.83837;   0.82220;   0.66834;   0.73263;   0.75626;   0.78681\n",
      "Poly SVM            0.87949;   0.88776;   0.88560;   0.79188;   0.85073;   0.84782;   0.87855\n",
      "sigmoid SVM         0.74026;   0.74052;   0.68560;   0.30788;   0.34336;   0.58302;   0.59701\n",
      "RBF SVM             0.80906;   0.81469;   0.77180;   0.60127;   0.62356;   0.71527;   0.71920\n",
      "Decision Tree       0.99558;   0.96538;   0.91580;   0.99260;   0.88924;   0.99540;   0.90894\n",
      "Random Forest       0.99795;   0.97850;   0.95560;   0.99656;   0.94261;   0.99766;   0.95427\n",
      "Neural Net          0.93280;   0.92985;   0.92380;   0.88845;   0.89982;   0.92283;   0.91749\n",
      "AdaBoost            1.00000;   0.98178;   0.95980;   1.00000;   0.94742;   1.00000;   0.95650\n",
      "Naive Bayes         0.78186;   0.79282;   0.71900;   0.53196;   0.53646;   0.67658;   0.66342\n",
      "LDA                 0.81375;   0.82325;   0.83500;   0.63727;   0.75599;   0.73758;   0.80306\n",
      "QDA                 0.80979;   0.81068;   0.76780;   0.63521;   0.63548;   0.73670;   0.72249\n"
     ]
    }
   ],
   "source": [
    "print(\"Name   Method       Train,%;    Test,%;   Other,%;  F1_train;  F1_other; AUC_train; AUC_other\") \n",
    "\n",
    "for name_cor, clf_cor in zip(names_cor, classifiers_cor):\n",
    "    clf_cor.fit(X_cor_train, y_cor_train)\n",
    "    score0 = clf_cor.score(X_cor_train, y_cor_train)\n",
    "    score = clf_cor.score(X_cor_test, y_cor_test)\n",
    "    score_other = clf_cor.score(X_cor_other, y_cor_other)\n",
    "    y_t = clf_cor.predict(X_cor_train)\n",
    "    y_p = clf_cor.predict(X_cor_other)\n",
    "    \n",
    "    \n",
    "    f1_t = metrics.f1_score(y_cor_train, y_t)\n",
    "    f1_p = metrics.f1_score(y_cor_other, y_p)\n",
    "    auc_t = metrics.roc_auc_score(y_cor_train, y_t)\n",
    "    auc_p = metrics.roc_auc_score(y_cor_other, y_p)\n",
    "    \n",
    "    print((name_cor+\"   {:.5f};   {:.5f};   {:.5f};   {:.5f};   {:.5f};   {:.5f};   {:.5f}\").format(score0, score, score_other, f1_t, f1_p, auc_t, auc_p))\n"
   ]
  },
  {
   "cell_type": "code",
   "execution_count": 15,
   "id": "4b5bcb01-0471-4471-9864-8c01082a5547",
   "metadata": {},
   "outputs": [
    {
     "name": "stdout",
     "output_type": "stream",
     "text": [
      "Random Forest       0.998;   0.978;   0.954;   0.996;   0.940;   0.997;   0.952\n"
     ]
    }
   ],
   "source": [
    "clf_cor = RandomForestClassifier(max_depth=13, n_estimators=100)\n",
    "clf_cor.fit(X_cor_train, y_cor_train)\n",
    "\n",
    "score0 = clf_cor.score(X_cor_train, y_cor_train)\n",
    "score = clf_cor.score(X_cor_test, y_cor_test)\n",
    "score_other = clf_cor.score(X_cor_other, y_cor_other)\n",
    "y_t = clf_cor.predict(X_cor_train)\n",
    "y_p_without = clf.predict(X_cor_other)\n",
    "y_p = clf_cor.predict(X_cor_other)\n",
    "f1_t = metrics.f1_score(y_cor_train, y_t)\n",
    "f1_p = metrics.f1_score(y_cor_other, y_p)\n",
    "auc_t = metrics.roc_auc_score(y_cor_train, y_t)\n",
    "auc_p = metrics.roc_auc_score(y_cor_other, y_p)\n",
    "print((name+\"   {:.3f};   {:.3f};   {:.3f};   {:.3f};   {:.3f};   {:.3f};   {:.3f}\").format(score0, score, score_other, f1_t, f1_p, auc_t, auc_p))"
   ]
  },
  {
   "cell_type": "code",
   "execution_count": 16,
   "id": "5c210d3e-bc8e-4786-9c81-da0b6296a1fb",
   "metadata": {},
   "outputs": [
    {
     "name": "stdout",
     "output_type": "stream",
     "text": [
      "870\n"
     ]
    },
    {
     "data": {
      "image/png": "[encoded data removed]",
      "text/plain": [
       "<Figure size 864x576 with 6 Axes>"
      ]
     },
     "metadata": {
      "needs_background": "light"
     },
     "output_type": "display_data"
    }
   ],
   "source": [
    "plt.rcParams['figure.figsize'] = (12, 8)\n",
    "N1 = 0\n",
    "N2 = 5000\n",
    "N3 = 0\n",
    "\n",
    "ax = plt.subplot(231)\n",
    "c = ax.pcolormesh(np.transpose(np.reshape(answers_other4[N1:N1+5000], (50,100))), cmap='Blues_r')\n",
    "ax.set_title(r'$Original$')\n",
    "\n",
    "ax = plt.subplot(232)\n",
    "c = ax.pcolormesh(np.transpose(np.reshape(answers_other3[N1:N1+5000], (50,100))), cmap='Blues_r')\n",
    "ax.set_title(r'$Original Y$')\n",
    "\n",
    "ax = plt.subplot(233)\n",
    "c = ax.pcolormesh(np.transpose(np.reshape(answers_other_2[N3:N3+5000], (50,100))), cmap='Blues_r')\n",
    "ax.set_title(r'$Original X$')\n",
    "\n",
    "ax = plt.subplot(234)\n",
    "c = ax.pcolormesh(np.transpose(np.reshape(y_p_without, (50,100))), cmap='Blues_r')\n",
    "ax.set_title(r'$Without Cor$')\n",
    "\n",
    "ax = plt.subplot(235)\n",
    "c = ax.pcolormesh(np.transpose(np.reshape(y_p, (50,100))), cmap='Blues_r')\n",
    "ax.set_title(r'$Cor X$')\n",
    "\n",
    "\n",
    "answer_rf_other = clf_cor.predict(chois_other_2)\n",
    "clf_proba_other = clf_cor.predict_proba(chois_other_2)[:, 0]\n",
    "clf_proba_other = np.logical_and(clf_proba_other > 0.2, clf_proba_other < 0.8)\n",
    "\n",
    "ax = plt.subplot(236)\n",
    "c = ax.pcolormesh(np.transpose(np.reshape(clf_proba_other[N3:N3+5000], (50,100))), cmap='summer')\n",
    "ax.set_title(r'$Cor X Border$')\n",
    "print(np.sum(clf_proba_other[N3:N3+5000]))"
   ]
  },
  {
   "cell_type": "code",
   "execution_count": 17,
   "id": "9f358157-ad59-42be-a294-b59d5a7e93b9",
   "metadata": {},
   "outputs": [
    {
     "name": "stdout",
     "output_type": "stream",
     "text": [
      "WithoutCorTwo   0.997;   0.998;   0.997;\n",
      "WithoutCor3rd   0.328;   0.494;   0.500;\n",
      "WithoutCorOther   0.384;   0.555;   0.500;\n"
     ]
    }
   ],
   "source": [
    "x = chois_reg\n",
    "y = answers_reg\n",
    "y_t = clf.predict(x)\n",
    "score = metrics.accuracy_score(y, y_t)\n",
    "f1_t = metrics.f1_score(y, y_t)\n",
    "auc_t = metrics.roc_auc_score(y, y_t)\n",
    "print((\"WithoutCorTwo   {:.3f};   {:.3f};   {:.3f};\").format(score, f1_t, auc_t))\n",
    "\n",
    "x = chois_other\n",
    "y = answers_other\n",
    "y_t = clf.predict(x)\n",
    "score = metrics.accuracy_score(y, y_t)\n",
    "f1_t = metrics.f1_score(y, y_t)\n",
    "auc_t = metrics.roc_auc_score(y, y_t)\n",
    "print((\"WithoutCor3rd   {:.3f};   {:.3f};   {:.3f};\").format(score, f1_t, auc_t))\n",
    "\n",
    "x = chois_other_2\n",
    "y = answers_other_2\n",
    "y_t = clf.predict(x)\n",
    "score = metrics.accuracy_score(y, y_t)\n",
    "f1_t = metrics.f1_score(y, y_t)\n",
    "auc_t = metrics.roc_auc_score(y, y_t)\n",
    "print((\"WithoutCorOther   {:.3f};   {:.3f};   {:.3f};\").format(score, f1_t, auc_t))"
   ]
  },
  {
   "cell_type": "code",
   "execution_count": 18,
   "id": "502f3d1f-6d31-420a-b813-6acf165188e7",
   "metadata": {},
   "outputs": [
    {
     "name": "stdout",
     "output_type": "stream",
     "text": [
      "WithCorTwo   0.972;   0.979;   0.959;\n",
      "WithCor3rd   0.965;   0.949;   0.972;\n",
      "WithCorOther   0.937;   0.921;   0.941;\n"
     ]
    }
   ],
   "source": [
    "x = chois_reg\n",
    "y = answers_reg\n",
    "\n",
    "y_t = clf.predict(x)\n",
    "y_t_cor = clf_cor.predict(x)\n",
    "clf_proba = clf.predict_proba(x)[:, 0]\n",
    "clf_proba = np.logical_and(clf_proba > 0.1, clf_proba < 0.9)\n",
    "y_t=np.array(y_t)\n",
    "y_t[np.transpose(clf_proba == 1)] = y_t_cor[np.transpose(clf_proba == 1)]\n",
    "\n",
    "score = metrics.accuracy_score(y, y_t)\n",
    "f1_t = metrics.f1_score(y, y_t)\n",
    "auc_t = metrics.roc_auc_score(y, y_t)\n",
    "print((\"WithCorTwo   {:.3f};   {:.3f};   {:.3f};\").format(score, f1_t, auc_t))\n",
    "\n",
    "x = chois_other\n",
    "y = answers_other\n",
    "y_t = clf.predict(x)\n",
    "y_t_cor = clf_cor.predict(x)\n",
    "clf_proba = clf.predict_proba(x)[:, 0]\n",
    "clf_proba = np.logical_and(clf_proba > 0.1, clf_proba < 0.9)\n",
    "y_t=np.array(y_t)\n",
    "y_t[np.transpose(clf_proba == 1)] = y_t_cor[np.transpose(clf_proba == 1)]\n",
    "score = metrics.accuracy_score(y, y_t)\n",
    "f1_t = metrics.f1_score(y, y_t)\n",
    "auc_t = metrics.roc_auc_score(y, y_t)\n",
    "print((\"WithCor3rd   {:.3f};   {:.3f};   {:.3f};\").format(score, f1_t, auc_t))\n",
    "\n",
    "x = chois_other_2\n",
    "y = answers_other_2\n",
    "y_t = clf.predict(x)\n",
    "y_t_cor = clf_cor.predict(x)\n",
    "clf_proba = clf.predict_proba(x)[:, 0]\n",
    "clf_proba = np.logical_and(clf_proba > 0.1, clf_proba < 0.9)\n",
    "y_t=np.array(y_t)\n",
    "y_t[np.transpose(clf_proba == 1)] = y_t_cor[np.transpose(clf_proba == 1)]\n",
    "score = metrics.accuracy_score(y, y_t)\n",
    "f1_t = metrics.f1_score(y, y_t)\n",
    "auc_t = metrics.roc_auc_score(y, y_t)\n",
    "print((\"WithCorOther   {:.3f};   {:.3f};   {:.3f};\").format(score, f1_t, auc_t))"
   ]
  },
  {
   "cell_type": "code",
   "execution_count": 19,
   "id": "8f58f0da-cd7b-4848-9836-45483140e825",
   "metadata": {},
   "outputs": [
    {
     "name": "stdout",
     "output_type": "stream",
     "text": [
      "Two   0.993;   0.994;   0.990;\n",
      "3rd   0.990;   0.985;   0.991;\n",
      "Other   0.954;   0.941;   0.953;\n"
     ]
    }
   ],
   "source": [
    "clf_n = clf\n",
    "\n",
    "X_n_train, X_n_test, y_n_train, y_n_test = \\\n",
    "    train_test_split(np.concatenate((chois_reg, chois_other), axis=0), \n",
    "                     np.concatenate((answers_reg, answers_other), axis=0), test_size=.1, random_state=777)\n",
    "clf_n.fit(X_n_train, y_n_train)\n",
    "\n",
    "x = chois_reg\n",
    "y = answers_reg\n",
    "\n",
    "y_t = clf_n.predict(x)\n",
    "score = metrics.accuracy_score(y, y_t)\n",
    "f1_t = metrics.f1_score(y, y_t)\n",
    "auc_t = metrics.roc_auc_score(y, y_t)\n",
    "print((\"Two   {:.3f};   {:.3f};   {:.3f};\").format(score, f1_t, auc_t))\n",
    "\n",
    "x = chois_other\n",
    "y = answers_other\n",
    "y_t = clf_n.predict(x)\n",
    "score = metrics.accuracy_score(y, y_t)\n",
    "f1_t = metrics.f1_score(y, y_t)\n",
    "auc_t = metrics.roc_auc_score(y, y_t)\n",
    "print((\"3rd   {:.3f};   {:.3f};   {:.3f};\").format(score, f1_t, auc_t))\n",
    "\n",
    "x = chois_other_2\n",
    "y = answers_other_2\n",
    "y_t = clf_n.predict(x)\n",
    "score = metrics.accuracy_score(y, y_t)\n",
    "f1_t = metrics.f1_score(y, y_t)\n",
    "auc_t = metrics.roc_auc_score(y, y_t)\n",
    "print((\"Other   {:.3f};   {:.3f};   {:.3f};\").format(score, f1_t, auc_t))"
   ]
  },
  {
   "cell_type": "code",
   "execution_count": null,
   "id": "3cf8ae4e-52a5-4230-83ab-78928f02c8cf",
   "metadata": {},
   "outputs": [],
   "source": []
  }
 ],
 "metadata": {
  "kernelspec": {
   "display_name": "Python 3 (ipykernel)",
   "language": "python",
   "name": "python3"
  },
  "language_info": {
   "codemirror_mode": {
    "name": "ipython",
    "version": 3
   },
   "file_extension": ".py",
   "mimetype": "text/x-python",
   "name": "python",
   "nbconvert_exporter": "python",
   "pygments_lexer": "ipython3",
   "version": "3.7.8"
  }
 },
 "nbformat": 4,
 "nbformat_minor": 5
}
