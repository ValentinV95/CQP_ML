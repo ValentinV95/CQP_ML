{
 "cells": [
  {
   "cell_type": "code",
   "execution_count": 1,
   "id": "d1fc36ac",
   "metadata": {},
   "outputs": [],
   "source": [
    "import numpy as np\n",
    "from time import process_time\n",
    "from scipy.io import loadmat\n",
    "from sklearn.model_selection import train_test_split\n",
    "from sklearn.preprocessing import StandardScaler\n",
    "from sklearn.datasets import make_moons, make_circles, make_classification\n",
    "from sklearn.neural_network import MLPClassifier\n",
    "from sklearn.neighbors import KNeighborsClassifier\n",
    "from sklearn.svm import SVC\n",
    "from sklearn.svm import NuSVC\n",
    "from sklearn.tree import DecisionTreeClassifier\n",
    "from sklearn.ensemble import RandomForestClassifier, AdaBoostClassifier\n",
    "from sklearn.naive_bayes import GaussianNB\n",
    "from sklearn.discriminant_analysis import QuadraticDiscriminantAnalysis\n",
    "from sklearn.discriminant_analysis import LinearDiscriminantAnalysis\n",
    "from sklearn.metrics import f1_score\n",
    "from sklearn import metrics\n",
    "from sklearn.linear_model import Ridge\n",
    "import imblearn\n",
    "\n",
    "import warnings\n",
    "warnings.filterwarnings(\"ignore\")\n",
    "\n",
    "N = 4\n",
    "\n",
    "pd = '' #path with data"
   ]
  },
  {
   "cell_type": "code",
   "execution_count": 2,
   "id": "52dbba1e",
   "metadata": {},
   "outputs": [],
   "source": [
    "data = loadmat(pd+'dataAnswer_regular_from_0_to_3pion4.mat')\n",
    "answers_reg_ = np.transpose(np.array(data['answers']))\n",
    "data = loadmat(pd+'dataChoi3_sn_regular_from_0_to_3pion4.mat')\n",
    "chois_reg_ = np.array(data['choi'])\n",
    "\n",
    "data = loadmat(pd+'dataAnswer_regular_otherY_from_0_to_3pion4.mat')\n",
    "answers_Y = np.transpose(np.array(data['answers']))\n",
    "data = loadmat(pd+'dataChoi3_sn_regular_otherY_from_0_to_3pion4.mat')\n",
    "chois_Y = np.array(data['choi'])\n",
    "\n",
    "chois_short = np.concatenate((chois_reg_, chois_Y), axis=0)\n",
    "answers_reg = np.concatenate((answers_reg_, answers_Y), axis=0)\n",
    "\n",
    "\n",
    "data = loadmat(pd+'dataChoi3_n_regular_from_0_to_3pion4.mat')\n",
    "chois_reg_ = np.array(data['choi'])\n",
    "data = loadmat(pd+'dataChoi3_n_regular_otherY_from_0_to_3pion4.mat')\n",
    "chois_Y = np.array(data['choi'])\n",
    "\n",
    "chois_long = np.concatenate((chois_reg_, chois_Y), axis=0)\n",
    "\n",
    "data = loadmat(pd+'dataAnswer_regular_3pion8.mat')\n",
    "answers_other1 = np.transpose(np.array(data['answers']))\n",
    "data = loadmat(pd+'dataChoi3_sn_regular_3pion8.mat')\n",
    "chois_other1 = np.array(data['choi'])\n",
    "\n",
    "data = loadmat(pd+'dataAnswer_regular_otherY_3pion8.mat')\n",
    "answers_other2 = np.transpose(np.array(data['answers']))\n",
    "data = loadmat(pd+'dataChoi3_sn_regular_otherY_3pion8.mat')\n",
    "chois_other2 = np.array(data['choi'])\n",
    "\n",
    "chois_short_other = np.concatenate((chois_other1, chois_other2), axis=0)\n",
    "answers_other = np.concatenate((answers_other1, answers_other2), axis=0)\n",
    "\n",
    "\n",
    "data = loadmat(pd+'dataChoi3_n_regular_3pion8.mat')\n",
    "chois_other1 = np.array(data['choi'])\n",
    "data = loadmat(pd+'dataChoi3_n_regular_otherY_3pion8.mat')\n",
    "chois_other2 = np.array(data['choi'])\n",
    "\n",
    "chois_long_other = np.concatenate((chois_other1, chois_other2), axis=0)"
   ]
  },
  {
   "cell_type": "code",
   "execution_count": 3,
   "id": "2ae03c76",
   "metadata": {},
   "outputs": [],
   "source": [
    "X = chois_long\n",
    "y = answers_reg"
   ]
  },
  {
   "cell_type": "code",
   "execution_count": 4,
   "id": "7a1b3bed",
   "metadata": {},
   "outputs": [],
   "source": [
    "classifiers = KNeighborsClassifier(3)\n",
    "metrics_name = [\"euclidean\", \"manhattan\", \"chebyshev\", \"minkowski\"]\n"
   ]
  },
  {
   "cell_type": "code",
   "execution_count": 5,
   "id": "c99cd88e",
   "metadata": {
    "tags": []
   },
   "outputs": [
    {
     "name": "stdout",
     "output_type": "stream",
     "text": [
      "euclidean 0.99556;   0.98783;   0.97580;   0.99666;   0.98300;   0.99442;   0.97277\n",
      "manhattan 0.99604;   0.98867;   0.97650;   0.99702;   0.98347;   0.99504;   0.97463\n",
      "chebyshev 0.99454;   0.98633;   0.97350;   0.99589;   0.98142;   0.99331;   0.96886\n",
      "minkowski 0.99556;   0.98783;   0.97580;   0.99666;   0.98300;   0.99442;   0.97277\n"
     ]
    }
   ],
   "source": [
    "X = chois_long\n",
    "y = answers_reg\n",
    "\n",
    "X_train, X_test, y_train, y_test = \\\n",
    "    train_test_split(X, y, test_size=.1, random_state=777)\n",
    "\n",
    "X_other = chois_long_other\n",
    "y_other = answers_other\n",
    "\n",
    "for name in metrics_name:\n",
    "    clf = KNeighborsClassifier(3, metric=name)\n",
    "    clf.fit(X_train, y_train)\n",
    "    score0 = clf.score(X_train, y_train)\n",
    "    score = clf.score(X_test, y_test)\n",
    "    score_other = clf.score(X_other, y_other)\n",
    "    y_t = clf.predict(X_train)\n",
    "    y_p = clf.predict(X_other)\n",
    "       \n",
    "    f1_t = metrics.f1_score(y_train, y_t)\n",
    "    f1_p = metrics.f1_score(y_other, y_p)\n",
    "    auc_t = metrics.roc_auc_score(y_train, y_t)\n",
    "    auc_p = metrics.roc_auc_score(y_other, y_p)\n",
    "    \n",
    "    print((name+\" {:.5f};   {:.5f};   {:.5f};   {:.5f};   {:.5f};   {:.5f};   {:.5f}\").format(score0, score, score_other, f1_t, f1_p, auc_t, auc_p))    "
   ]
  },
  {
   "cell_type": "code",
   "execution_count": 6,
   "id": "77870ffd",
   "metadata": {},
   "outputs": [],
   "source": [
    "\n",
    "from sklearn.model_selection import GridSearchCV\n",
    "estimator_KNN = KNeighborsClassifier(algorithm='auto')\n",
    "parameters_KNN = {\n",
    "    'n_neighbors': (1,10, 1),\n",
    "    'leaf_size': (20,40,1),\n",
    "    'p': (1,2),\n",
    "    'weights': ('uniform', 'distance'),\n",
    "    'metric': ('minkowski', 'chebyshev')}\n",
    "                   \n",
    "grid_search_KNN = GridSearchCV(\n",
    "    estimator=estimator_KNN,\n",
    "    param_grid=parameters_KNN,\n",
    "    scoring = 'accuracy',\n",
    "    n_jobs = -1,\n",
    "    cv = 2\n",
    ")"
   ]
  },
  {
   "cell_type": "code",
   "execution_count": 7,
   "id": "a171eda6",
   "metadata": {},
   "outputs": [
    {
     "name": "stdout",
     "output_type": "stream",
     "text": [
      "{'leaf_size': 1, 'metric': 'minkowski', 'n_neighbors': 10, 'p': 1, 'weights': 'distance'}\n",
      "Best Score - KNN: 0.9841851851851852\n"
     ]
    }
   ],
   "source": [
    "KNN_1=grid_search_KNN.fit(X_train, y_train)\n",
    "y_pred_KNN1 =KNN_1.predict(X_other)\n",
    "\n",
    "#Parameter setting that gave the best results on the hold out data.\n",
    "print(grid_search_KNN.best_params_ ) \n",
    "#Mean cross-validated score of the best_estimator\n",
    "print('Best Score - KNN:', grid_search_KNN.best_score_ )"
   ]
  },
  {
   "cell_type": "code",
   "execution_count": 8,
   "id": "66a1d653",
   "metadata": {},
   "outputs": [
    {
     "name": "stdout",
     "output_type": "stream",
     "text": [
      "[0.9744, 0.9819971870604781, 0.972003694327154]\n"
     ]
    }
   ],
   "source": [
    "scor_p = metrics.accuracy_score(y_other, y_pred_KNN1)\n",
    "f1_p = metrics.f1_score(y_other, y_pred_KNN1)\n",
    "auc_p = metrics.roc_auc_score(y_other, y_pred_KNN1)\n",
    "print([scor_p, f1_p, auc_p])"
   ]
  }
 ],
 "metadata": {
  "kernelspec": {
   "display_name": "Python 3 (ipykernel)",
   "language": "python",
   "name": "python3"
  },
  "language_info": {
   "codemirror_mode": {
    "name": "ipython",
    "version": 3
   },
   "file_extension": ".py",
   "mimetype": "text/x-python",
   "name": "python",
   "nbconvert_exporter": "python",
   "pygments_lexer": "ipython3",
   "version": "3.7.8"
  }
 },
 "nbformat": 4,
 "nbformat_minor": 5
}
