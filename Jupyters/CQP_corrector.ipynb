{
 "cells": [
  {
   "cell_type": "code",
   "execution_count": 1,
   "id": "927596fb-708f-49a0-9072-fbed5efa122b",
   "metadata": {},
   "outputs": [],
   "source": [
    "import warnings\n",
    "warnings.filterwarnings('ignore')\n",
    "import numpy as np\n",
    "from time import process_time\n",
    "from scipy.io import loadmat\n",
    "\n",
    "N = 4"
   ]
  },
  {
   "cell_type": "code",
   "execution_count": 4,
   "id": "3e16d040-269b-4c71-8db1-b3ab058d4320",
   "metadata": {},
   "outputs": [],
   "source": [
    "pd = '' #path with data"
   ]
  },
  {
   "cell_type": "code",
   "execution_count": 5,
   "id": "b6d354e6-7c9e-4f88-b014-4ffecd5d1387",
   "metadata": {},
   "outputs": [],
   "source": [
    "data = loadmat(pd+'dataAnswer_regular_from_0_to_3pion4.mat')\n",
    "answers_reg_ = np.transpose(np.array(data['answers']))\n",
    "data = loadmat(pd+'dataChoi3_sn_regular_from_0_to_3pion4.mat')\n",
    "chois_reg_ = np.array(data['choi'])\n",
    "\n",
    "data = loadmat(pd+'dataAnswer_regular_otherY_from_0_to_3pion4.mat')\n",
    "answers_Y = np.transpose(np.array(data['answers']))\n",
    "data = loadmat(pd+'dataChoi3_sn_regular_otherY_from_0_to_3pion4.mat')\n",
    "chois_Y = np.array(data['choi'])\n",
    "\n",
    "chois_reg = np.concatenate((chois_reg_, chois_Y), axis=0)\n",
    "answers_reg = np.concatenate((answers_reg_, answers_Y), axis=0)\n",
    "\n",
    "data = loadmat(pd+'dataAnswer_regular_3pion8.mat')\n",
    "answers_other1 = np.transpose(np.array(data['answers']))\n",
    "data = loadmat(pd+'dataChoi3_sn_regular_3pion8.mat')\n",
    "chois_other1 = np.array(data['choi'])\n",
    "\n",
    "data = loadmat(pd+'dataAnswer_regular_otherY_3pion8.mat')\n",
    "answers_other2 = np.transpose(np.array(data['answers']))\n",
    "data = loadmat(pd+'dataChoi3_sn_regular_otherY_3pion8.mat')\n",
    "chois_other2 = np.array(data['choi'])\n",
    "\n",
    "chois_other = np.concatenate((chois_other1, chois_other2), axis=0)\n",
    "answers_other = np.concatenate((answers_other1, answers_other2), axis=0)"
   ]
  },
  {
   "cell_type": "code",
   "execution_count": 4,
   "id": "493ac358-1751-4d13-9afb-1877f56fb98e",
   "metadata": {},
   "outputs": [],
   "source": [
    "from sklearn.model_selection import train_test_split\n",
    "from sklearn.preprocessing import StandardScaler\n",
    "from sklearn.datasets import make_moons, make_circles, make_classification\n",
    "from sklearn.neural_network import MLPClassifier\n",
    "from sklearn.neighbors import KNeighborsClassifier\n",
    "from sklearn.svm import SVC\n",
    "from sklearn.svm import NuSVC\n",
    "from sklearn.tree import DecisionTreeClassifier\n",
    "from sklearn.ensemble import RandomForestClassifier, AdaBoostClassifier\n",
    "from sklearn.naive_bayes import GaussianNB\n",
    "from sklearn.discriminant_analysis import QuadraticDiscriminantAnalysis\n",
    "from sklearn.discriminant_analysis import LinearDiscriminantAnalysis\n",
    "from sklearn.metrics import f1_score\n",
    "from sklearn import metrics\n",
    "from sklearn.linear_model import Ridge"
   ]
  },
  {
   "cell_type": "code",
   "execution_count": 5,
   "id": "67885759-9e29-4e32-9f4e-2c1ad6d90e7b",
   "metadata": {},
   "outputs": [
    {
     "name": "stdout",
     "output_type": "stream",
     "text": [
      "[(60000, 15), (60000, 1)]\n",
      "[(54000, 1), (6000, 1), 0.6651]\n"
     ]
    }
   ],
   "source": [
    "X = chois_reg\n",
    "y = answers_reg\n",
    "\n",
    "print([X.shape, y.shape])\n",
    "\n",
    "X_train, X_test, y_train, y_test = \\\n",
    "    train_test_split(X, y, test_size=.1, random_state=777)\n",
    "\n",
    "X_other = chois_other\n",
    "y_other = answers_other\n",
    "print([y_train.shape, y_test.shape, np.sum(y)/y.size])"
   ]
  },
  {
   "cell_type": "code",
   "execution_count": 6,
   "id": "4f6e6ce9-0dd0-49de-a24a-f89b1af86968",
   "metadata": {},
   "outputs": [],
   "source": [
    "h = .02 \n",
    "names = [ \"Random Forest    \"]\n",
    "classifiers = [ RandomForestClassifier(max_depth=13, n_estimators=100)]"
   ]
  },
  {
   "cell_type": "code",
   "execution_count": 7,
   "id": "d8ad9e58-1f68-48cb-bab6-06a5a3370ca0",
   "metadata": {},
   "outputs": [
    {
     "data": {
      "text/plain": [
       "RandomForestClassifier(max_depth=13)"
      ]
     },
     "execution_count": 7,
     "metadata": {},
     "output_type": "execute_result"
    }
   ],
   "source": [
    "name = names[0]\n",
    "clf = classifiers[0]\n",
    "clf.fit(X_train, y_train)"
   ]
  },
  {
   "cell_type": "code",
   "execution_count": 8,
   "id": "051907a8-cc3b-423e-ad84-6528860515bb",
   "metadata": {},
   "outputs": [
    {
     "name": "stdout",
     "output_type": "stream",
     "text": [
      "Random Forest       0.998;   0.990;   0.988;   0.999;   0.991;   0.998;   0.984\n"
     ]
    }
   ],
   "source": [
    "score0 = clf.score(X_train, y_train)\n",
    "score = clf.score(X_test, y_test)\n",
    "score_other = clf.score(X_other, y_other)\n",
    "y_t = clf.predict(X_train)\n",
    "y_p = clf.predict(X_other)\n",
    "f1_t = metrics.f1_score(y_train, y_t)\n",
    "f1_p = metrics.f1_score(y_other, y_p)\n",
    "auc_t = metrics.roc_auc_score(y_train, y_t)\n",
    "auc_p = metrics.roc_auc_score(y_other, y_p)\n",
    "print((name+\"   {:.3f};   {:.3f};   {:.3f};   {:.3f};   {:.3f};   {:.3f};   {:.3f}\").format(score0, score, score_other, f1_t, f1_p, auc_t, auc_p))"
   ]
  },
  {
   "cell_type": "code",
   "execution_count": 9,
   "id": "af50de5b-727a-428b-b958-db91cfcfb263",
   "metadata": {},
   "outputs": [
    {
     "name": "stdout",
     "output_type": "stream",
     "text": [
      "[(54000,), (54000, 15)]\n"
     ]
    }
   ],
   "source": [
    "print([(y_t.reshape(y_t.size)!=y_train.reshape(y_t.size)).shape, X_train.shape])\n",
    "x_train_false = X_train[np.transpose(np.tile(y_t.reshape(y_t.size)!=y_train.reshape(y_t.size), (X_train.shape[1], 1)))].reshape(-1,15)\n",
    "x_train_true = X_train[np.transpose(np.tile(y_t.reshape(y_t.size)==y_train.reshape(y_t.size), (X_train.shape[1], 1)))].reshape(-1,15)\n",
    "x_proba_false = clf.predict_proba(x_train_false)\n",
    "x_proba_true = clf.predict_proba(x_train_true)"
   ]
  },
  {
   "cell_type": "code",
   "execution_count": 10,
   "id": "d8672b45-84d1-4cef-8712-cbe6b4ccd647",
   "metadata": {},
   "outputs": [
    {
     "data": {
      "image/png": "[encoded data removed]",
      "text/plain": [
       "<Figure size 432x288 with 4 Axes>"
      ]
     },
     "metadata": {
      "needs_background": "light"
     },
     "output_type": "display_data"
    }
   ],
   "source": [
    "import matplotlib.pyplot as plt\n",
    "plt.subplot(2, 2, 1)\n",
    "n, bins, patches = plt.hist(x_proba_false[:,0], 50)\n",
    "plt.subplot(2, 2, 2)\n",
    "n, bins, patches = plt.hist(x_proba_false[:,1], 50)\n",
    "plt.subplot(2, 2, 3)\n",
    "n, bins, patches = plt.hist(x_proba_true[:,0], 50)\n",
    "plt.subplot(2, 2, 4)\n",
    "n, bins, patches = plt.hist(x_proba_true[:,1], 50)\n",
    "plt.show()"
   ]
  },
  {
   "cell_type": "code",
   "execution_count": 11,
   "id": "64e94bb1-2c23-4a1c-9b33-c2f873e55ec4",
   "metadata": {},
   "outputs": [],
   "source": [
    "X_train_cor = np.concatenate((X_train, clf.predict_proba(X_train)), axis=1)\n",
    "X_test_cor = np.concatenate((X_test, clf.predict_proba(X_test)), axis=1)\n",
    "X_other_cor = np.concatenate((X_other, clf.predict_proba(X_other)), axis=1)\n",
    "y_train_cor = clf.predict(X_train).reshape(y_train.size)!=y_train.reshape(y_train.size)\n",
    "y_test_cor = clf.predict(X_test).reshape(y_test.size)!=y_test.reshape(y_test.size)\n",
    "y_other_cor = clf.predict(X_other).reshape(y_other.size)!=y_other.reshape(y_other.size)\n"
   ]
  },
  {
   "cell_type": "code",
   "execution_count": 12,
   "id": "939b90be-0a6b-47f3-aa22-35d6174ea835",
   "metadata": {},
   "outputs": [],
   "source": [
    "names_cor = [\n",
    "    \"Nearest Neighbors\", \n",
    "    \"Linear SVM       \",\n",
    "    \"Poly SVM         \",\n",
    "    \"sigmoid SVM      \",\n",
    "    \"RBF SVM          \", \n",
    "    \"Decision Tree    \",\n",
    "    \"Random Forest    \",\n",
    "    \"Neural Net       \",\n",
    "    \"AdaBoost         \",\n",
    "    \"Naive Bayes      \",\n",
    "    \"LDA              \",\n",
    "    \"QDA              \"\n",
    "    ]\n",
    "\n",
    "classifiers_cor = [ \n",
    "    KNeighborsClassifier(3),\n",
    "    SVC(kernel=\"linear\"),\n",
    "    SVC(kernel=\"poly\", degree=3),\n",
    "    SVC(kernel=\"sigmoid\"),\n",
    "    SVC(),\n",
    "    DecisionTreeClassifier(max_depth=5),\n",
    "    RandomForestClassifier(max_depth=5, n_estimators=100),\n",
    "    MLPClassifier(alpha=0.01,hidden_layer_sizes=[32, 8]),\n",
    "    AdaBoostClassifier(DecisionTreeClassifier(max_depth=5), n_estimators=100),\n",
    "    GaussianNB(),\n",
    "    LinearDiscriminantAnalysis(),\n",
    "    QuadraticDiscriminantAnalysis() \n",
    "    ]"
   ]
  },
  {
   "cell_type": "code",
   "execution_count": 13,
   "id": "456c50e3-b25f-4884-bc76-bca6b343d5e5",
   "metadata": {},
   "outputs": [
    {
     "name": "stdout",
     "output_type": "stream",
     "text": [
      "Nearest Neighbors   0.99967;   0.99217;   0.98350;   0.90816;   0.20290;   0.94494;   0.58091\n",
      "Linear SVM          0.99815;   0.98983;   0.98750;   0.00000;   0.00000;   0.50000;   0.50000\n",
      "Poly SVM            0.99815;   0.98983;   0.98750;   0.00000;   0.00000;   0.50000;   0.50000\n",
      "sigmoid SVM         0.99815;   0.98983;   0.98750;   0.00000;   0.00000;   0.50000;   0.50000\n",
      "RBF SVM             0.99815;   0.98983;   0.98750;   0.00000;   0.00000;   0.50000;   0.50000\n",
      "Decision Tree       0.99963;   0.99150;   0.98670;   0.89796;   0.29630;   0.93993;   0.61018\n",
      "Random Forest       0.99889;   0.99000;   0.98760;   0.57143;   0.04615;   0.70000;   0.51190\n",
      "Neural Net          0.99815;   0.98983;   0.98750;   0.00000;   0.00000;   0.50000;   0.50000\n",
      "AdaBoost            1.00000;   0.99167;   0.98740;   1.00000;   0.07353;   1.00000;   0.51970\n",
      "Naive Bayes         0.99820;   0.99067;   0.98530;   0.46995;   0.05161;   0.71463;   0.51468\n",
      "LDA                 0.99702;   0.98900;   0.98740;   0.00000;   0.00000;   0.49943;   0.49995\n",
      "QDA                 0.99431;   0.98467;   0.98220;   0.37728;   0.16822;   0.96222;   0.56841\n"
     ]
    }
   ],
   "source": [
    "for name_cor, clf_cor in zip(names_cor, classifiers_cor):\n",
    "    clf_cor.fit(X_train_cor, y_train_cor)\n",
    "    score0 = clf_cor.score(X_train_cor, y_train_cor)\n",
    "    score = clf_cor.score(X_test_cor, y_test_cor)\n",
    "    score_other = clf_cor.score(X_other_cor, y_other_cor)\n",
    "    y_t = clf_cor.predict(X_train_cor)\n",
    "    y_p = clf_cor.predict(X_other_cor)\n",
    "    \n",
    "    \n",
    "    f1_t = metrics.f1_score(y_train_cor, y_t)\n",
    "    f1_p = metrics.f1_score(y_other_cor, y_p)\n",
    "    auc_t = metrics.roc_auc_score(y_train_cor, y_t)\n",
    "    auc_p = metrics.roc_auc_score(y_other_cor, y_p)\n",
    "    \n",
    "    print((name_cor+\"   {:.5f};   {:.5f};   {:.5f};   {:.5f};   {:.5f};   {:.5f};   {:.5f}\").format(score0, score, score_other, f1_t, f1_p, auc_t, auc_p))    "
   ]
  },
  {
   "cell_type": "code",
   "execution_count": 14,
   "id": "a60d0487-0ba9-4fa4-b762-d1712cd5990d",
   "metadata": {},
   "outputs": [],
   "source": [
    "clf_cor = DecisionTreeClassifier(max_depth=5)\n",
    "clf_cor.fit(X_train_cor, y_train_cor)\n",
    "\n",
    "answer_nn = clf.predict(chois_reg)\n",
    "answer_o = clf.predict(chois_other)\n",
    "clf_proba = clf.predict_proba(chois_reg)[:, 0]\n",
    "clf_proba = np.logical_and(clf_proba > 0.3, clf_proba < 0.7)\n",
    "clf_proba_o = clf.predict_proba(chois_other)[:, 0]\n",
    "clf_proba_o = np.logical_and(clf_proba_o > 0.3, clf_proba_o < 0.7)\n",
    "\n",
    "chois_reg_cor = np.concatenate((chois_reg, clf.predict_proba(chois_reg)), axis=1)\n",
    "answer_cor = clf_cor.predict(chois_reg_cor)"
   ]
  },
  {
   "cell_type": "code",
   "execution_count": 15,
   "id": "1e758284-9478-44fe-8543-af352f4d1f73",
   "metadata": {},
   "outputs": [
    {
     "data": {
      "image/png": "[encoded data removed]",
      "text/plain": [
       "<Figure size 864x576 with 6 Axes>"
      ]
     },
     "metadata": {
      "needs_background": "light"
     },
     "output_type": "display_data"
    }
   ],
   "source": [
    "def plt_text():\n",
    "    plt.xticks([0, 10, 20, 30, 40, 50],[r'$0$',r'$\\frac{\\pi}{5}$',r'$\\frac{2\\pi}{5}$',r'$\\frac{3\\pi}{5}$',r'$\\frac{4\\pi}{5}$',r'$\\pi$'])\n",
    "    plt.yticks([0, 50, 100],[r'$0$',r'$\\pi$',r'$2\\pi$'])\n",
    "    plt.xlabel(r'$E$')\n",
    "    plt.ylabel(r'$\\omega$')\n",
    "\n",
    "\n",
    "plt.rcParams['figure.figsize'] = (12, 8)\n",
    "N1 = 0\n",
    "N2 = 5000\n",
    "\n",
    "ax = plt.subplot(231)\n",
    "c = ax.pcolormesh(np.transpose(np.reshape(answers_other[N1:N1+5000], (50,100))), cmap='Blues_r')\n",
    "plt_text()\n",
    "ax.set_title(r'$Original$ 3pion8')\n",
    "\n",
    "ax = plt.subplot(234)\n",
    "c = ax.pcolormesh(np.transpose(np.reshape(answers_other[N2:N2+5000], (50,100))), cmap='Blues_r')\n",
    "plt_text()\n",
    "ax.set_title(r'$Original Y$ 3pion8')\n",
    "\n",
    "ax = plt.subplot(232)\n",
    "c = ax.pcolormesh(np.transpose(np.reshape(clf_proba_o[N1:N1+5000], (50,100))), cmap='summer')\n",
    "plt_text()\n",
    "ax.set_title(r'$Border$ 3pion8')\n",
    "\n",
    "ax = plt.subplot(235)\n",
    "c = ax.pcolormesh(np.transpose(np.reshape(clf_proba_o[N2:N2+5000], (50,100))), cmap='summer')\n",
    "plt_text()\n",
    "ax.set_title(r'$Border Y$ 3pion8')\n",
    "\n",
    "\n",
    "miss = np.transpose(np.logical_xor(answer_o, np.transpose(answers_other)))\n",
    "ax = plt.subplot(233)\n",
    "c = ax.pcolormesh(np.transpose(np.reshape(miss[N1:N1+5000], (50,100))), cmap='hot')\n",
    "plt_text()\n",
    "ax.set_title(r'$RF_{miss}$')\n",
    "\n",
    "ax = plt.subplot(236)\n",
    "c = ax.pcolormesh(np.transpose(np.reshape(miss[N2:N2+5000], (50,100))), cmap='hot')\n",
    "plt_text()\n",
    "ax.set_title(r'$RF Y_{miss}$')\n",
    "'''\n",
    "ax = plt.subplot(247)\n",
    "c = ax.pcolormesh(np.transpose(np.reshape(answer_cor[N1:N1+5000], (50,100))), cmap='summer')\n",
    "plt_text()\n",
    "ax.set_title(r'$Cor$')\n",
    "\n",
    "ax = plt.subplot(248)\n",
    "c = ax.pcolormesh(np.transpose(np.reshape(answer_cor[N2:N2+5000], (50,100))), cmap='summer')\n",
    "plt_text()\n",
    "ax.set_title(r'$Cor Y$')\n",
    "'''\n",
    "\n",
    "plt.tight_layout()\n",
    "plt.show()"
   ]
  },
  {
   "cell_type": "code",
   "execution_count": 16,
   "id": "9359d38b-6575-4a2b-8929-caebb7f98f68",
   "metadata": {},
   "outputs": [],
   "source": [
    "answer_rf_other = clf.predict(chois_other)\n",
    "clf_proba_other = clf.predict_proba(chois_other)[:, 0]\n",
    "clf_proba_other = np.logical_and(clf_proba_other > 0.4, clf_proba_other < 0.6)\n",
    "\n",
    "chois_other_cor = np.concatenate((chois_other, clf.predict_proba(chois_other)), axis=1)\n",
    "answer_other_cor = clf_cor.predict(chois_other_cor)"
   ]
  },
  {
   "cell_type": "code",
   "execution_count": 17,
   "id": "44821725-a1f9-4d50-bfb2-7dc5927753b3",
   "metadata": {},
   "outputs": [
    {
     "data": {
      "image/png": "[encoded data removed]",
      "text/plain": [
       "<Figure size 864x576 with 8 Axes>"
      ]
     },
     "metadata": {
      "needs_background": "light"
     },
     "output_type": "display_data"
    }
   ],
   "source": [
    "\n",
    "ax = plt.subplot(241)\n",
    "c = ax.pcolormesh(np.transpose(np.reshape(answers_other[0:5000], (50,100))), cmap='Blues_r')\n",
    "plt_text()\n",
    "ax.set_title(r'$Original$')\n",
    "\n",
    "ax = plt.subplot(242)\n",
    "c = ax.pcolormesh(np.transpose(np.reshape(answers_other[5000:10000], (50,100))), cmap='Blues_r')\n",
    "plt_text()\n",
    "ax.set_title(r'$Original Y$')\n",
    "\n",
    "ax = plt.subplot(243)\n",
    "c = ax.pcolormesh(np.transpose(np.reshape(clf_proba_other[0:5000], (50,100))), cmap='summer')\n",
    "plt_text()\n",
    "ax.set_title(r'$Border$')\n",
    "\n",
    "ax = plt.subplot(244)\n",
    "c = ax.pcolormesh(np.transpose(np.reshape(clf_proba_other[5000:10000], (50,100))), cmap='summer')\n",
    "plt_text()\n",
    "ax.set_title(r'$Border Y$')\n",
    "\n",
    "\n",
    "miss = np.transpose(np.logical_xor(answer_rf_other, np.transpose(answers_other)))\n",
    "ax = plt.subplot(245)\n",
    "c = ax.pcolormesh(np.transpose(np.reshape(miss[0:5000], (50,100))), cmap='hot')\n",
    "plt_text()\n",
    "ax.set_title(r'$RF_{miss}$')\n",
    "\n",
    "ax = plt.subplot(246)\n",
    "c = ax.pcolormesh(np.transpose(np.reshape(miss[5000:10000], (50,100))), cmap='hot')\n",
    "plt_text()\n",
    "ax.set_title(r'$RF Y_{miss}$')\n",
    "\n",
    "ax = plt.subplot(247)\n",
    "c = ax.pcolormesh(np.transpose(np.reshape(answer_other_cor[0:5000], (50,100))), cmap='summer')\n",
    "plt_text()\n",
    "ax.set_title(r'$Cor$')\n",
    "\n",
    "ax = plt.subplot(248)\n",
    "c = ax.pcolormesh(np.transpose(np.reshape(answer_other_cor[5000:10000], (50,100))), cmap='summer')\n",
    "plt_text()\n",
    "ax.set_title(r'$Cor Y$')\n",
    "\n",
    "plt.tight_layout()\n",
    "plt.show()"
   ]
  }
 ],
 "metadata": {
  "kernelspec": {
   "display_name": "Python 3 (ipykernel)",
   "language": "python",
   "name": "python3"
  },
  "language_info": {
   "codemirror_mode": {
    "name": "ipython",
    "version": 3
   },
   "file_extension": ".py",
   "mimetype": "text/x-python",
   "name": "python",
   "nbconvert_exporter": "python",
   "pygments_lexer": "ipython3",
   "version": "3.7.8"
  }
 },
 "nbformat": 4,
 "nbformat_minor": 5
}
