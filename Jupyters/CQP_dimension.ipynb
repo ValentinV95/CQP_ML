{
 "cells": [
  {
   "cell_type": "code",
   "execution_count": 1,
   "id": "927596fb-708f-49a0-9072-fbed5efa122b",
   "metadata": {},
   "outputs": [],
   "source": [
    "import numpy as np\n",
    "from time import process_time\n",
    "from scipy.io import loadmat\n",
    "\n",
    "N = 4"
   ]
  },
  {
   "cell_type": "code",
   "execution_count": 2,
   "id": "3e16d040-269b-4c71-8db1-b3ab058d4320",
   "metadata": {},
   "outputs": [],
   "source": [
    "pd = '' #path with data"
   ]
  },
  {
   "cell_type": "code",
   "execution_count": 4,
   "id": "b6d354e6-7c9e-4f88-b014-4ffecd5d1387",
   "metadata": {},
   "outputs": [],
   "source": [
    "data = loadmat(pd+'dataAnswer_regular_from_0_to_3pion4.mat')\n",
    "answers_reg_ = np.transpose(np.array(data['answers']))\n",
    "data = loadmat(pd+'dataChoi3_sn_regular_from_0_to_3pion4.mat')\n",
    "chois_reg_ = np.array(data['choi'])\n",
    "\n",
    "data = loadmat(pd+'dataAnswer_regular_otherY_from_0_to_3pion4.mat')\n",
    "answers_Y = np.transpose(np.array(data['answers']))\n",
    "data = loadmat(pd+'dataChoi3_sn_regular_otherY_from_0_to_3pion4.mat')\n",
    "chois_Y = np.array(data['choi'])\n",
    "\n",
    "chois_reg = np.concatenate((chois_reg_, chois_Y), axis=0)\n",
    "answers_reg = np.concatenate((answers_reg_, answers_Y), axis=0)\n",
    "\n",
    "data = loadmat(pd+'dataAnswer_regular_3pion8.mat')\n",
    "answers_other1 = np.transpose(np.array(data['answers']))\n",
    "data = loadmat(pd+'dataChoi3_sn_regular_3pion8.mat')\n",
    "chois_other1 = np.array(data['choi'])\n",
    "\n",
    "data = loadmat(pd+'dataAnswer_regular_otherY_3pion8.mat')\n",
    "answers_other2 = np.transpose(np.array(data['answers']))\n",
    "data = loadmat(pd+'dataChoi3_sn_regular_otherY_3pion8.mat')\n",
    "chois_other2 = np.array(data['choi'])\n",
    "\n",
    "chois_other = np.concatenate((chois_other1, chois_other2), axis=0)\n",
    "answers_other = np.concatenate((answers_other1, answers_other2), axis=0)"
   ]
  },
  {
   "cell_type": "code",
   "execution_count": 14,
   "id": "493ac358-1751-4d13-9afb-1877f56fb98e",
   "metadata": {},
   "outputs": [],
   "source": [
    "import skdim\n",
    "from sklearn.model_selection import train_test_split"
   ]
  },
  {
   "cell_type": "code",
   "execution_count": 17,
   "id": "7ae6f6c4",
   "metadata": {},
   "outputs": [
    {
     "name": "stdout",
     "output_type": "stream",
     "text": [
      "(11800, 15)\n",
      "2.6461365342847105 7\n"
     ]
    }
   ],
   "source": [
    "uni_train, uni = train_test_split(np.unique(chois_reg, axis=0), test_size=0.2)\n",
    "print(uni.shape)\n",
    "#estimate global intrinsic dimension\n",
    "danco = skdim.id.DANCo().fit(uni)\n",
    "#estimate local intrinsic dimension (dimension in k-nearest-neighborhoods around each point):\n",
    "lpca = skdim.id.lPCA().fit(uni)\n",
    "\n",
    "#get estimated intrinsic dimension\n",
    "print(danco.dimension_, lpca.dimension_)"
   ]
  },
  {
   "cell_type": "code",
   "execution_count": 18,
   "id": "bd695ba4",
   "metadata": {},
   "outputs": [
    {
     "name": "stdout",
     "output_type": "stream",
     "text": [
      "2.8745264997556235 7\n"
     ]
    }
   ],
   "source": [
    "danco = skdim.id.DANCo().fit(chois_reg[0:5000,:])\n",
    "lpca = skdim.id.lPCA().fit(chois_reg[0:5000,:])\n",
    "\n",
    "#get estimated intrinsic dimension\n",
    "print(danco.dimension_, lpca.dimension_)\n"
   ]
  },
  {
   "cell_type": "code",
   "execution_count": 19,
   "id": "e7c2d28f",
   "metadata": {},
   "outputs": [],
   "source": [
    "cor = skdim.id.CorrInt().fit(uni)\n",
    "ess = skdim.id.ESS().fit(uni)\n",
    "fisher = skdim.id.FisherS().fit(uni)\n",
    "knn = skdim.id.KNN().fit(uni)\n",
    "mada = skdim.id.MADA().fit(uni)\n",
    "mind = skdim.id.MiND_ML().fit(uni)\n",
    "mle = skdim.id.MLE().fit(uni)\n",
    "mom = skdim.id.MOM().fit(uni)\n",
    "tle = skdim.id.TLE().fit(uni)\n",
    "tnn = skdim.id.TwoNN().fit(uni)"
   ]
  },
  {
   "cell_type": "code",
   "execution_count": 20,
   "id": "275ee3a1",
   "metadata": {},
   "outputs": [
    {
     "name": "stdout",
     "output_type": "stream",
     "text": [
      "2.8745264997556235 7 2.1686938037908017 3.8243688853607987 2.9552817152602 3 3.936312912342711\n",
      "2.5788026474925827 2.397478567659898 3.9687482079779524 3.136277248168781 2.6932834934432326\n"
     ]
    }
   ],
   "source": [
    "print(danco.dimension_, lpca.dimension_, cor.dimension_, ess.dimension_, fisher.dimension_, knn.dimension_, mada.dimension_)\n",
    "print(mind.dimension_, mle.dimension_, mom.dimension_, tle.dimension_, tnn.dimension_)"
   ]
  },
  {
   "cell_type": "code",
   "execution_count": null,
   "id": "0aec4007",
   "metadata": {},
   "outputs": [],
   "source": []
  }
 ],
 "metadata": {
  "kernelspec": {
   "display_name": "Python 3 (ipykernel)",
   "language": "python",
   "name": "python3"
  },
  "language_info": {
   "codemirror_mode": {
    "name": "ipython",
    "version": 3
   },
   "file_extension": ".py",
   "mimetype": "text/x-python",
   "name": "python",
   "nbconvert_exporter": "python",
   "pygments_lexer": "ipython3",
   "version": "3.7.8"
  }
 },
 "nbformat": 4,
 "nbformat_minor": 5
}
